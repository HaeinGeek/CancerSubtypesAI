{
  "cells": [
    {
      "cell_type": "markdown",
      "metadata": {
        "id": "ZQK5JS1Zpy8N"
      },
      "source": [
        "# install & Git clone"
      ]
    },
    {
      "cell_type": "code",
      "execution_count": 3,
      "metadata": {
        "colab": {
          "base_uri": "https://localhost:8080/"
        },
        "id": "RnjKWTjay3HT",
        "outputId": "77684d09-6ffa-4b1d-8c70-eeb86f01c842"
      },
      "outputs": [
        {
          "name": "stdout",
          "output_type": "stream",
          "text": [
            "Collecting pytorch-lightning\n",
            "  Downloading pytorch_lightning-2.4.0-py3-none-any.whl.metadata (21 kB)\n",
            "Requirement already satisfied: torch>=2.1.0 in /usr/local/lib/python3.10/dist-packages (from pytorch-lightning) (2.4.1+cu121)\n",
            "Requirement already satisfied: tqdm>=4.57.0 in /usr/local/lib/python3.10/dist-packages (from pytorch-lightning) (4.66.5)\n",
            "Requirement already satisfied: PyYAML>=5.4 in /usr/local/lib/python3.10/dist-packages (from pytorch-lightning) (6.0.2)\n",
            "Requirement already satisfied: fsspec>=2022.5.0 in /usr/local/lib/python3.10/dist-packages (from fsspec[http]>=2022.5.0->pytorch-lightning) (2024.6.1)\n",
            "Collecting torchmetrics>=0.7.0 (from pytorch-lightning)\n",
            "  Downloading torchmetrics-1.4.3-py3-none-any.whl.metadata (19 kB)\n",
            "Requirement already satisfied: packaging>=20.0 in /usr/local/lib/python3.10/dist-packages (from pytorch-lightning) (24.1)\n",
            "Requirement already satisfied: typing-extensions>=4.4.0 in /usr/local/lib/python3.10/dist-packages (from pytorch-lightning) (4.12.2)\n",
            "Collecting lightning-utilities>=0.10.0 (from pytorch-lightning)\n",
            "  Downloading lightning_utilities-0.11.8-py3-none-any.whl.metadata (5.2 kB)\n",
            "Requirement already satisfied: aiohttp!=4.0.0a0,!=4.0.0a1 in /usr/local/lib/python3.10/dist-packages (from fsspec[http]>=2022.5.0->pytorch-lightning) (3.10.10)\n",
            "Requirement already satisfied: setuptools in /usr/local/lib/python3.10/dist-packages (from lightning-utilities>=0.10.0->pytorch-lightning) (71.0.4)\n",
            "Requirement already satisfied: filelock in /usr/local/lib/python3.10/dist-packages (from torch>=2.1.0->pytorch-lightning) (3.16.1)\n",
            "Requirement already satisfied: sympy in /usr/local/lib/python3.10/dist-packages (from torch>=2.1.0->pytorch-lightning) (1.13.3)\n",
            "Requirement already satisfied: networkx in /usr/local/lib/python3.10/dist-packages (from torch>=2.1.0->pytorch-lightning) (3.4)\n",
            "Requirement already satisfied: jinja2 in /usr/local/lib/python3.10/dist-packages (from torch>=2.1.0->pytorch-lightning) (3.1.4)\n",
            "Requirement already satisfied: numpy>1.20.0 in /usr/local/lib/python3.10/dist-packages (from torchmetrics>=0.7.0->pytorch-lightning) (1.26.4)\n",
            "Requirement already satisfied: aiohappyeyeballs>=2.3.0 in /usr/local/lib/python3.10/dist-packages (from aiohttp!=4.0.0a0,!=4.0.0a1->fsspec[http]>=2022.5.0->pytorch-lightning) (2.4.3)\n",
            "Requirement already satisfied: aiosignal>=1.1.2 in /usr/local/lib/python3.10/dist-packages (from aiohttp!=4.0.0a0,!=4.0.0a1->fsspec[http]>=2022.5.0->pytorch-lightning) (1.3.1)\n",
            "Requirement already satisfied: attrs>=17.3.0 in /usr/local/lib/python3.10/dist-packages (from aiohttp!=4.0.0a0,!=4.0.0a1->fsspec[http]>=2022.5.0->pytorch-lightning) (24.2.0)\n",
            "Requirement already satisfied: frozenlist>=1.1.1 in /usr/local/lib/python3.10/dist-packages (from aiohttp!=4.0.0a0,!=4.0.0a1->fsspec[http]>=2022.5.0->pytorch-lightning) (1.4.1)\n",
            "Requirement already satisfied: multidict<7.0,>=4.5 in /usr/local/lib/python3.10/dist-packages (from aiohttp!=4.0.0a0,!=4.0.0a1->fsspec[http]>=2022.5.0->pytorch-lightning) (6.1.0)\n",
            "Requirement already satisfied: yarl<2.0,>=1.12.0 in /usr/local/lib/python3.10/dist-packages (from aiohttp!=4.0.0a0,!=4.0.0a1->fsspec[http]>=2022.5.0->pytorch-lightning) (1.14.0)\n",
            "Requirement already satisfied: async-timeout<5.0,>=4.0 in /usr/local/lib/python3.10/dist-packages (from aiohttp!=4.0.0a0,!=4.0.0a1->fsspec[http]>=2022.5.0->pytorch-lightning) (4.0.3)\n",
            "Requirement already satisfied: MarkupSafe>=2.0 in /usr/local/lib/python3.10/dist-packages (from jinja2->torch>=2.1.0->pytorch-lightning) (3.0.1)\n",
            "Requirement already satisfied: mpmath<1.4,>=1.1.0 in /usr/local/lib/python3.10/dist-packages (from sympy->torch>=2.1.0->pytorch-lightning) (1.3.0)\n",
            "Requirement already satisfied: idna>=2.0 in /usr/local/lib/python3.10/dist-packages (from yarl<2.0,>=1.12.0->aiohttp!=4.0.0a0,!=4.0.0a1->fsspec[http]>=2022.5.0->pytorch-lightning) (3.10)\n",
            "Requirement already satisfied: propcache>=0.2.0 in /usr/local/lib/python3.10/dist-packages (from yarl<2.0,>=1.12.0->aiohttp!=4.0.0a0,!=4.0.0a1->fsspec[http]>=2022.5.0->pytorch-lightning) (0.2.0)\n",
            "Downloading pytorch_lightning-2.4.0-py3-none-any.whl (815 kB)\n",
            "\u001b[2K   \u001b[90m━━━━━━━━━━━━━━━━━━━━━━━━━━━━━━━━━━━━━━━━\u001b[0m \u001b[32m815.2/815.2 kB\u001b[0m \u001b[31m10.8 MB/s\u001b[0m eta \u001b[36m0:00:00\u001b[0m\n",
            "\u001b[?25hDownloading lightning_utilities-0.11.8-py3-none-any.whl (26 kB)\n",
            "Downloading torchmetrics-1.4.3-py3-none-any.whl (869 kB)\n",
            "\u001b[2K   \u001b[90m━━━━━━━━━━━━━━━━━━━━━━━━━━━━━━━━━━━━━━━━\u001b[0m \u001b[32m869.5/869.5 kB\u001b[0m \u001b[31m37.3 MB/s\u001b[0m eta \u001b[36m0:00:00\u001b[0m\n",
            "\u001b[?25hInstalling collected packages: lightning-utilities, torchmetrics, pytorch-lightning\n",
            "Successfully installed lightning-utilities-0.11.8 pytorch-lightning-2.4.0 torchmetrics-1.4.3\n"
          ]
        }
      ],
      "source": [
        "! pip install pytorch-lightning"
      ]
    },
    {
      "cell_type": "code",
      "execution_count": 4,
      "metadata": {
        "colab": {
          "base_uri": "https://localhost:8080/"
        },
        "id": "ErG7n4sG7Jr0",
        "outputId": "7bf91abb-c50a-4b05-80fb-69eeea713adf"
      },
      "outputs": [
        {
          "name": "stdout",
          "output_type": "stream",
          "text": [
            "Reading package lists... Done\n",
            "Building dependency tree... Done\n",
            "Reading state information... Done\n",
            "The following NEW packages will be installed:\n",
            "  tree\n",
            "0 upgraded, 1 newly installed, 0 to remove and 49 not upgraded.\n",
            "Need to get 47.9 kB of archives.\n",
            "After this operation, 116 kB of additional disk space will be used.\n",
            "Get:1 http://archive.ubuntu.com/ubuntu jammy/universe amd64 tree amd64 2.0.2-1 [47.9 kB]\n",
            "Fetched 47.9 kB in 1s (86.6 kB/s)\n",
            "Selecting previously unselected package tree.\n",
            "(Reading database ... 123629 files and directories currently installed.)\n",
            "Preparing to unpack .../tree_2.0.2-1_amd64.deb ...\n",
            "Unpacking tree (2.0.2-1) ...\n",
            "Setting up tree (2.0.2-1) ...\n",
            "Processing triggers for man-db (2.10.2-1) ...\n"
          ]
        }
      ],
      "source": [
        "!apt-get install tree"
      ]
    },
    {
      "cell_type": "code",
      "execution_count": 5,
      "metadata": {
        "colab": {
          "base_uri": "https://localhost:8080/"
        },
        "id": "Ge-FeojEfh_d",
        "outputId": "b9f1c81b-a48a-4df4-b019-e60f4e45d087"
      },
      "outputs": [
        {
          "name": "stdout",
          "output_type": "stream",
          "text": [
            "Cloning into 'CancerSubtypesAI'...\n",
            "remote: Enumerating objects: 518, done.\u001b[K\n",
            "remote: Counting objects: 100% (108/108), done.\u001b[K\n",
            "remote: Compressing objects: 100% (57/57), done.\u001b[K\n",
            "remote: Total 518 (delta 61), reused 91 (delta 51), pack-reused 410 (from 1)\u001b[K\n",
            "Receiving objects: 100% (518/518), 43.46 MiB | 13.54 MiB/s, done.\n",
            "Resolving deltas: 100% (260/260), done.\n",
            "Updating files: 100% (37/37), done.\n"
          ]
        }
      ],
      "source": [
        "# 2. GitHub 레포지토리 설치\n",
        "!git clone https://github.com/HaeinGeek/CancerSubtypesAI.git"
      ]
    },
    {
      "cell_type": "code",
      "execution_count": 6,
      "metadata": {
        "colab": {
          "base_uri": "https://localhost:8080/"
        },
        "id": "WojEvNuqfje3",
        "outputId": "551fcb45-3f7d-44a3-b3c8-930e59acda39"
      },
      "outputs": [
        {
          "name": "stdout",
          "output_type": "stream",
          "text": [
            "/content/CancerSubtypesAI\n"
          ]
        }
      ],
      "source": [
        "# 3. 작업 디렉터리 이동\n",
        "%cd CancerSubtypesAI"
      ]
    },
    {
      "cell_type": "code",
      "execution_count": 7,
      "metadata": {
        "colab": {
          "base_uri": "https://localhost:8080/"
        },
        "id": "7uo2Kemf7MGd",
        "outputId": "c74937fb-a5f5-4d7d-b3b8-f72febf929d1"
      },
      "outputs": [
        {
          "name": "stdout",
          "output_type": "stream",
          "text": [
            "\u001b[01;34m/content/CancerSubtypesAI\u001b[0m\n",
            "├── \u001b[01;34mdata\u001b[0m\n",
            "│   ├── \u001b[00mamino_acid_features.csv\u001b[0m\n",
            "│   ├── \u001b[00mgenes_ensembl.txt\u001b[0m\n",
            "│   ├── \u001b[00mgenes_ncbi.txt\u001b[0m\n",
            "│   ├── \u001b[00mgenes_pdb.txt\u001b[0m\n",
            "│   ├── \u001b[00mgenes_uniprot.txt\u001b[0m\n",
            "│   ├── \u001b[01;34mprocessed\u001b[0m\n",
            "│   │   ├── \u001b[00mmutant_seq_not_found.csv\u001b[0m\n",
            "│   │   ├── \u001b[01;31mmutant_seq_unique.zip\u001b[0m\n",
            "│   │   ├── \u001b[00mprotein_sequences_ensembl.csv\u001b[0m\n",
            "│   │   ├── \u001b[00mprotein_sequences_ncbi.csv\u001b[0m\n",
            "│   │   ├── \u001b[00mprotein_sequences_pdb.csv\u001b[0m\n",
            "│   │   ├── \u001b[00mprotein_sequences_uniprot.csv\u001b[0m\n",
            "│   │   └── \u001b[00mtrain_mutation_encoding.csv\u001b[0m\n",
            "│   ├── \u001b[01;34msamples\u001b[0m\n",
            "│   │   └── \u001b[00mtrain.csv\u001b[0m\n",
            "│   └── \u001b[00mtrain.csv\u001b[0m\n",
            "├── \u001b[01;34mencoder\u001b[0m\n",
            "│   ├── \u001b[00m__init__.py\u001b[0m\n",
            "│   ├── \u001b[00mmutation_encoder.py\u001b[0m\n",
            "│   └── \u001b[00mREADME.md\u001b[0m\n",
            "├── \u001b[00mREADME.md\u001b[0m\n",
            "├── \u001b[00mrequirements.txt\u001b[0m\n",
            "├── \u001b[01;34mscripts\u001b[0m\n",
            "│   ├── \u001b[00mencode_mutations.py\u001b[0m\n",
            "│   ├── \u001b[00mfetch_sequence.py\u001b[0m\n",
            "│   └── \u001b[00mgenerate_mutants.py\u001b[0m\n",
            "├── \u001b[01;34msequence_fetcher\u001b[0m\n",
            "│   ├── \u001b[00mensembl_api.py\u001b[0m\n",
            "│   ├── \u001b[00m__init__.py\u001b[0m\n",
            "│   ├── \u001b[00mncbi_api.py\u001b[0m\n",
            "│   ├── \u001b[00mpdb_api.py\u001b[0m\n",
            "│   ├── \u001b[00mREADME.md\u001b[0m\n",
            "│   ├── \u001b[00msequence_fetcher.py\u001b[0m\n",
            "│   └── \u001b[00muniprot_api.py\u001b[0m\n",
            "├── \u001b[01;34msequence_processor\u001b[0m\n",
            "│   ├── \u001b[00m__init__.py\u001b[0m\n",
            "│   ├── \u001b[00mmutant_generator.py\u001b[0m\n",
            "│   ├── \u001b[00mREADME.md\u001b[0m\n",
            "│   └── \u001b[00msequence_loader.py\u001b[0m\n",
            "└── \u001b[01;34mtest\u001b[0m\n",
            "    ├── \u001b[00mfetch_sequence_test.py\u001b[0m\n",
            "    └── \u001b[00mgenerate_mutants_test.py\u001b[0m\n",
            "\n",
            "8 directories, 35 files\n"
          ]
        }
      ],
      "source": [
        "!tree /content/CancerSubtypesAI"
      ]
    },
    {
      "cell_type": "code",
      "execution_count": 8,
      "metadata": {
        "id": "31zBAVYffjcb"
      },
      "outputs": [],
      "source": [
        "# 4. PYTHONPATH 설정 (processing 모듈을 패키지로 인식하도록)\n",
        "import sys\n",
        "sys.path.append(\"/content/CancerSubtypesAI\")"
      ]
    },
    {
      "cell_type": "code",
      "execution_count": 147,
      "metadata": {
        "id": "5gteCI34IZ4n"
      },
      "outputs": [],
      "source": [
        "! mkdir -p checkpoints\n",
        "! mkdir -p logs"
      ]
    },
    {
      "cell_type": "markdown",
      "metadata": {
        "id": "o-ytZvMnqN82"
      },
      "source": [
        "# 파일 불러오기"
      ]
    },
    {
      "cell_type": "code",
      "execution_count": 125,
      "metadata": {
        "id": "K9V0HNP1tCDg"
      },
      "outputs": [],
      "source": [
        "# 라이브러리 임포트\n",
        "import numpy as np\n",
        "import pandas as pd\n",
        "import matplotlib.pyplot as plt\n"
      ]
    },
    {
      "cell_type": "code",
      "execution_count": null,
      "metadata": {},
      "outputs": [],
      "source": [
        "import torch\n",
        "import torch.nn as nn\n",
        "from torch.utils.data import Dataset, DataLoader\n",
        "from torchmetrics import F1Score\n",
        "from sklearn.metrics import accuracy_score, f1_score"
      ]
    },
    {
      "cell_type": "code",
      "execution_count": null,
      "metadata": {},
      "outputs": [],
      "source": [
        "import pytorch_lightning as pl\n",
        "from pytorch_lightning import Trainer\n",
        "from pytorch_lightning.callbacks import EarlyStopping, ModelCheckpoint, LearningRateMonitor\n",
        "from pytorch_lightning.loggers import CSVLogger"
      ]
    },
    {
      "cell_type": "code",
      "execution_count": 126,
      "metadata": {
        "id": "aWl0aj4RqQ1j"
      },
      "outputs": [],
      "source": [
        "input_filepath = 'data/train.csv'\n",
        "mutation_encoding_filepath= 'data/processed/train_mutation_encoding.csv'"
      ]
    },
    {
      "cell_type": "code",
      "execution_count": 127,
      "metadata": {
        "id": "tZAtnhL9qTTG"
      },
      "outputs": [],
      "source": [
        "train_df = pd.read_csv(input_filepath)\n",
        "mutation_encoding_df = pd.read_csv(mutation_encoding_filepath)"
      ]
    },
    {
      "cell_type": "code",
      "execution_count": 128,
      "metadata": {
        "id": "vKj_y5UAqbR3"
      },
      "outputs": [],
      "source": [
        "# train melting\n",
        "melted_df = train_df.melt(id_vars=['ID','SUBCLASS'], var_name='gene', value_name='mutation_str')\n",
        "# 변이 정보 가진 행만 추출\n",
        "melted_df_del_WT = melted_df[melted_df.mutation_str != 'WT']"
      ]
    },
    {
      "cell_type": "code",
      "execution_count": 129,
      "metadata": {
        "id": "a57sb56SqbP5"
      },
      "outputs": [],
      "source": [
        "# 아미노산 특성 데이터 결합\n",
        "merged_df = melted_df_del_WT.merge(mutation_encoding_df, on=['gene','mutation_str'], how='left')"
      ]
    },
    {
      "cell_type": "code",
      "execution_count": 130,
      "metadata": {
        "id": "QX0lypG3rAib"
      },
      "outputs": [],
      "source": [
        "# 데이터프레임 저장 과정에서 문자열로 변환된 position 값을 리스트로 변환\n",
        "import ast\n",
        "merged_df.position = merged_df.position.apply(ast.literal_eval)"
      ]
    },
    {
      "cell_type": "markdown",
      "metadata": {
        "id": "pMm3xDkDqxWy"
      },
      "source": [
        "# 데이터셋 구조화"
      ]
    },
    {
      "cell_type": "code",
      "execution_count": 131,
      "metadata": {
        "colab": {
          "base_uri": "https://localhost:8080/"
        },
        "id": "DI0PKwPeqbLx",
        "outputId": "d1fb93eb-5976-4dea-c14f-b9f20d9817ba"
      },
      "outputs": [
        {
          "name": "stdout",
          "output_type": "stream",
          "text": [
            "4384 4384\n"
          ]
        }
      ],
      "source": [
        "genes = train_df.drop(['ID', 'SUBCLASS'], axis=1).columns\n",
        "gene_to_id = {gene: idx + 1 for idx, gene in enumerate(genes)}  # 패딩값을 0으로 사용하기 위해 1부터 시작\n",
        "print(len(genes), len(gene_to_id))"
      ]
    },
    {
      "cell_type": "code",
      "execution_count": 132,
      "metadata": {
        "colab": {
          "base_uri": "https://localhost:8080/"
        },
        "id": "zkzxQ1j6qbJ0",
        "outputId": "d9f9aabe-2d50-40c0-f9df-8666fbbf559b"
      },
      "outputs": [
        {
          "data": {
            "text/plain": [
              "{'Missense': 1,\n",
              " 'Nonsense': 2,\n",
              " 'Frameshift': 3,\n",
              " 'Silent_Nonsense': 4,\n",
              " 'Silent_Missense': 5,\n",
              " 'Deletion': 6,\n",
              " 'Complex_mutation': 7}"
            ]
          },
          "execution_count": 132,
          "metadata": {},
          "output_type": "execute_result"
        }
      ],
      "source": [
        "mutation_types = ['Missense', 'Nonsense','Frameshift',\n",
        "       'Silent_Nonsense', 'Silent_Missense', 'Deletion', 'Complex_mutation']\n",
        "\n",
        "type_to_code = {mutation_type: idx + 1 for idx, mutation_type in enumerate(mutation_types)}  # 패딩값을 0으로 사용하기 위해 1부터 시작\n",
        "type_to_code"
      ]
    },
    {
      "cell_type": "code",
      "execution_count": 133,
      "metadata": {
        "id": "VWCatX4iqbHo"
      },
      "outputs": [],
      "source": [
        "max_genes = 128\n",
        "num_features_per_gene = 14\n",
        "max_positions = 5\n",
        "sample_ids = train_df.ID.unique()"
      ]
    },
    {
      "cell_type": "code",
      "execution_count": 134,
      "metadata": {
        "id": "e_VAWiDyqbFg"
      },
      "outputs": [],
      "source": [
        "# 모든 샘플 데이터를 모을 빈 리스트 생성\n",
        "all_samples_data = []\n",
        "\n",
        "for sample_id in sample_ids:\n",
        "    sample_data = np.full((max_genes, num_features_per_gene), fill_value=0, dtype=np.float32)\n",
        "\n",
        "    # 해당 샘플의 변이 정보 가져오기\n",
        "    sample_mutations = merged_df[merged_df['ID'] == sample_id]\n",
        "\n",
        "    # 모든 유전자가 WT 인 경우 gene_id = 0으로 패딩된 입력 그대로 사용\n",
        "    if sample_mutations.empty:\n",
        "        all_samples_data.append(sample_data)\n",
        "\n",
        "    else:\n",
        "        # max_genes 개수로 변이 유전자 수 제한\n",
        "        # 변이 수가 max_genes 를 초과하는 경우 mut_num 이 많은 유전자부터 처리\n",
        "        sample_mutations = sample_mutations.sort_values(by='mut_num', ascending=False).head(max_genes)\n",
        "\n",
        "        for idx, (_, mutation) in enumerate(sample_mutations.iterrows()):\n",
        "            gene_id = gene_to_id.get(mutation['gene'], 0)\n",
        "            mutation_type_code = type_to_code.get(mutation['type'], 0)\n",
        "\n",
        "            # position list 다루기\n",
        "            positions = mutation['position']  # 리스트 형식\n",
        "\n",
        "            # Padding & max_positions 까지 trauncate\n",
        "            positions = (positions + [0]*max_positions)[:max_positions]\n",
        "\n",
        "            # features 채워넣기\n",
        "            features = [\n",
        "                gene_id,\n",
        "                mutation_type_code,\n",
        "                mutation['mut_num'],\n",
        "                mutation['status'],\n",
        "                mutation['hydrophobicity'],\n",
        "                mutation['polarity'],\n",
        "                mutation['mw'],\n",
        "                mutation['pI'],\n",
        "                mutation['charge']\n",
        "            ] + positions[:max_positions]\n",
        "\n",
        "            sample_data[idx] = features\n",
        "\n",
        "        all_samples_data.append(sample_data)\n",
        "\n",
        "# NumPy array로 변환\n",
        "all_samples_data = np.array(all_samples_data)  # Shape: (num_samples, max_genes, num_features_per_gene)\n",
        "\n",
        "# position 정규화\n",
        "# 유효한 position 값에 대한 마스크 생성 (패딩 값이 0인 경우)\n",
        "valid_positions = all_samples_data[:, :, -max_positions:] != 0\n",
        "\n",
        "# 패딩된 위치를 NaN으로 대체\n",
        "positions_with_nan = np.where(valid_positions, all_samples_data[:, :, -max_positions:], np.nan)\n",
        "\n",
        "# 위치별 최대값 계산 (NaN 제외)\n",
        "max_pos = np.nanmax(positions_with_nan, axis=(0, 1))\n",
        "\n",
        "# 최대값이 0인 경우 1로 대체\n",
        "max_pos = np.where(max_pos == 0, 1, max_pos)\n",
        "\n",
        "# 패딩된 위치 제외하고 정규화\n",
        "all_samples_data[:, :, -max_positions:] = np.where(\n",
        "    valid_positions,\n",
        "    all_samples_data[:, :, -max_positions:] / max_pos,\n",
        "    all_samples_data[:, :, -max_positions:]  # 패딩 값은 0으로 유지\n",
        ")"
      ]
    },
    {
      "cell_type": "code",
      "execution_count": 135,
      "metadata": {
        "id": "aJE7fD1QqbDJ"
      },
      "outputs": [],
      "source": [
        "# target 추출\n",
        "subclass_mapping = {subclass: idx for idx, subclass in enumerate(train_df['SUBCLASS'].unique())}\n",
        "sample_targets = []\n",
        "\n",
        "for sample_id in sample_ids:\n",
        "    sample_subclass = train_df[train_df['ID'] == sample_id]['SUBCLASS'].iloc[0]\n",
        "    subclass_code = subclass_mapping[sample_subclass]\n",
        "    sample_targets.append(subclass_code)\n",
        "\n",
        "sample_targets = np.array(sample_targets)"
      ]
    },
    {
      "cell_type": "code",
      "execution_count": 136,
      "metadata": {
        "colab": {
          "base_uri": "https://localhost:8080/"
        },
        "id": "CHDuEvL_96GP",
        "outputId": "8aa32096-9e28-4f3b-ea2b-087e780877ae"
      },
      "outputs": [
        {
          "name": "stdout",
          "output_type": "stream",
          "text": [
            "all_samples_data shape: (6201, 128, 14)\n",
            "sample_targets shape: (6201,)\n"
          ]
        }
      ],
      "source": [
        "print(\"all_samples_data shape:\", all_samples_data.shape)  # Expected: (num_samples, max_genes, num_features_per_gene)\n",
        "print(\"sample_targets shape:\", sample_targets.shape)      # Expected: (num_samples,)\n"
      ]
    },
    {
      "cell_type": "markdown",
      "metadata": {
        "id": "_xHahDcKzAF0"
      },
      "source": [
        "# 모델링 (Trainer)"
      ]
    },
    {
      "cell_type": "code",
      "execution_count": 138,
      "metadata": {
        "id": "HUPxDkvvJqBO"
      },
      "outputs": [],
      "source": [
        "# 하이퍼파라미터 설정\n",
        "num_genes = len(gene_to_id) + 1  # gene_id가 1부터 시작하고 패딩 값이 0인 경우\n",
        "num_types = len(type_to_code) + 1  # type이 1부터 시작하고 패딩 값이 0인 경우\n",
        "num_features = num_features_per_gene - 2  # gene_id와 type을 제외한 나머지 특성 수\n",
        "num_classes = len(subclass_mapping)  # SUBCLASS의 클래스 수\n",
        "max_genes = all_samples_data.shape[1]\n",
        "\n",
        "embedding_dim = 64\n",
        "hidden_dim = 256\n",
        "learning_rate = 0.001\n",
        "batch_size = 64\n",
        "\n",
        "early_stopping_patience = 5\n",
        "learning_rate_patience = 3"
      ]
    },
    {
      "cell_type": "code",
      "execution_count": 139,
      "metadata": {
        "id": "Sm6FTgdSJqBP"
      },
      "outputs": [],
      "source": [
        "# 손실 함수, 옵티마이저 설정\n",
        "criterion = nn.CrossEntropyLoss()\n",
        "optimizer = torch.optim.Adam(model.parameters(), lr=learning_rate)"
      ]
    },
    {
      "cell_type": "markdown",
      "metadata": {
        "id": "fDc6VmMUzlqF"
      },
      "source": [
        "## 모델"
      ]
    },
    {
      "cell_type": "code",
      "execution_count": 140,
      "metadata": {
        "id": "mf2Eed2Ny_pw"
      },
      "outputs": [],
      "source": [
        "class GeneMutationModel(pl.LightningModule):\n",
        "    def __init__(self, num_genes, num_types, embedding_dim, num_features, hidden_dim, num_classes):\n",
        "        super(GeneMutationModel, self).__init__()\n",
        "        self.num_classes = num_classes\n",
        "\n",
        "        # 모델 아키텍처 정의\n",
        "        self.gene_embedding = nn.Embedding(num_genes, embedding_dim, padding_idx=0)\n",
        "        self.type_embedding = nn.Embedding(num_types, embedding_dim, padding_idx=0)\n",
        "        self.feature_fc = nn.Linear(num_features, embedding_dim)\n",
        "        self.fc = nn.Sequential(\n",
        "            nn.Linear(embedding_dim * 3, hidden_dim),\n",
        "            nn.ReLU(),\n",
        "            nn.Linear(hidden_dim, num_classes)\n",
        "        )\n",
        "        # 손실 함수 정의\n",
        "        self.criterion = nn.CrossEntropyLoss()\n",
        "\n",
        "        # f1 스코어로 모델 평가\n",
        "        self.train_f1 = F1Score(task='multiclass', num_classes=self.num_classes, average='macro')\n",
        "        self.val_f1 = F1Score(task='multiclass', num_classes=self.num_classes, average='macro')\n",
        "        self.test_f1 = F1Score(task='multiclass', num_classes=self.num_classes, average='macro')\n",
        "\n",
        "    def forward(self, x):\n",
        "        # forward 메서드 구현\n",
        "        gene_ids = x[:, :, 0].long()\n",
        "        types = x[:, :, 1].long()\n",
        "        other_features = x[:, :, 2:]\n",
        "\n",
        "        gene_embeds = self.gene_embedding(gene_ids)\n",
        "        type_embeds = self.type_embedding(types)\n",
        "        feature_embeds = self.feature_fc(other_features)\n",
        "\n",
        "        # combined_embeds = gene_embeds + type_embeds + feature_embeds (크기 불일치)\n",
        "        combined_embeds = torch.cat([gene_embeds, type_embeds, feature_embeds], dim=-1)\n",
        "\n",
        "        mask = (gene_ids != 0).unsqueeze(-1)  # 패딩 값이 0인 경우\n",
        "        combined_embeds = combined_embeds * mask\n",
        "\n",
        "        gene_agg = combined_embeds.sum(dim=1) / mask.sum(dim=1).clamp(min=1)\n",
        "\n",
        "        out = self.fc(gene_agg)\n",
        "\n",
        "        # for debugging\n",
        "        # print(\"gene_embeds shape:\", gene_embeds.shape)\n",
        "        # print(\"type_embeds shape:\", type_embeds.shape)\n",
        "        # print(\"feature_embeds shape:\", feature_embeds.shape)\n",
        "        # print(\"combined_embeds shape:\", combined_embeds.shape)\n",
        "        # print(\"gene_agg shape:\", gene_agg.shape)\n",
        "\n",
        "        return out\n",
        "\n",
        "    def training_step(self, batch, batch_idx):\n",
        "        inputs = batch['sample']\n",
        "        targets = batch['target']\n",
        "\n",
        "        outputs = self(inputs)\n",
        "        loss = self.criterion(outputs, targets)\n",
        "\n",
        "        preds = torch.argmax(outputs, dim=1)\n",
        "        acc = (preds == targets).float().mean()\n",
        "        f1 = self.train_f1(preds, targets)\n",
        "\n",
        "        # 로그 기록\n",
        "        self.log('train_loss', loss, on_step=False, on_epoch=True)\n",
        "        self.log('train_acc', acc, on_step=False, on_epoch=True)\n",
        "        self.log('train_f1', f1, on_step=False, on_epoch=True)\n",
        "\n",
        "        return loss\n",
        "\n",
        "    def validation_step(self, batch, batch_idx):\n",
        "        inputs = batch['sample']\n",
        "        targets = batch['target']\n",
        "\n",
        "        outputs = self(inputs)\n",
        "        loss = self.criterion(outputs, targets)\n",
        "\n",
        "        preds = torch.argmax(outputs, dim=1)\n",
        "        acc = (preds == targets).float().mean()\n",
        "        f1 = self.val_f1(preds, targets)\n",
        "\n",
        "        # 로그 기록\n",
        "        self.log('val_loss', loss, on_step=False, on_epoch=True)\n",
        "        self.log('val_acc', acc, on_step=False, on_epoch=True)\n",
        "        self.log('val_f1', f1, on_step=False, on_epoch=True)\n",
        "\n",
        "    def configure_optimizers(self):\n",
        "        optimizer = torch.optim.Adam(self.parameters(), lr=learning_rate)\n",
        "        return optimizer"
      ]
    },
    {
      "cell_type": "markdown",
      "metadata": {
        "id": "yG7t-puyzoJs"
      },
      "source": [
        "## 데이터셋"
      ]
    },
    {
      "cell_type": "code",
      "execution_count": 141,
      "metadata": {
        "id": "v41g81KVzTGF"
      },
      "outputs": [],
      "source": [
        "class MutationDataset(Dataset):\n",
        "    def __init__(self, data, targets):\n",
        "        self.data = data  # NumPy 배열 또는 Tensor\n",
        "        self.targets = targets  # NumPy 배열 또는 Tensor\n",
        "\n",
        "    def __len__(self):\n",
        "        return len(self.targets)\n",
        "\n",
        "    def __getitem__(self, idx):\n",
        "        sample = self.data[idx]\n",
        "        target = self.targets[idx]\n",
        "        return {\n",
        "            'sample': torch.tensor(sample, dtype=torch.float32),\n",
        "            'target': torch.tensor(target, dtype=torch.long)\n",
        "        }"
      ]
    },
    {
      "cell_type": "code",
      "execution_count": 142,
      "metadata": {
        "id": "zLga9TS4H46H"
      },
      "outputs": [],
      "source": [
        "class MutationDataModule(pl.LightningDataModule):\n",
        "    def __init__(self, all_samples_data, sample_targets, batch_size=64):\n",
        "        super().__init__()\n",
        "        self.all_samples_data = all_samples_data\n",
        "        self.sample_targets = sample_targets\n",
        "        self.batch_size = batch_size\n",
        "\n",
        "    def setup(self, stage=None):\n",
        "        from sklearn.model_selection import train_test_split\n",
        "\n",
        "        train_indices, val_indices = train_test_split(\n",
        "            np.arange(len(self.sample_targets)),\n",
        "            test_size=0.2,\n",
        "            stratify=self.sample_targets,\n",
        "            random_state=42\n",
        "        )\n",
        "\n",
        "        self.train_dataset = torch.utils.data.Subset(\n",
        "            MutationDataset(self.all_samples_data, self.sample_targets),\n",
        "            train_indices\n",
        "        )\n",
        "        self.val_dataset = torch.utils.data.Subset(\n",
        "            MutationDataset(self.all_samples_data, self.sample_targets),\n",
        "            val_indices\n",
        "        )\n",
        "\n",
        "    def train_dataloader(self):\n",
        "        return DataLoader(self.train_dataset, batch_size=self.batch_size, shuffle=True, num_workers=2)\n",
        "\n",
        "    def val_dataloader(self):\n",
        "        return DataLoader(self.val_dataset, batch_size=self.batch_size, shuffle=False, num_workers=2)"
      ]
    },
    {
      "cell_type": "markdown",
      "metadata": {
        "id": "1Oihnr_j0PVp"
      },
      "source": [
        "## 콜백"
      ]
    },
    {
      "cell_type": "code",
      "execution_count": 166,
      "metadata": {
        "id": "JBYtzjhi0KoR"
      },
      "outputs": [],
      "source": [
        "# 조기종료 콜백\n",
        "early_stop_callback = pl.callbacks.EarlyStopping(\n",
        "    monitor='val_loss',\n",
        "    min_delta=0.001,\n",
        "    # min_delta=0.00,\n",
        "    patience=early_stopping_patience,\n",
        "    verbose=True,\n",
        "    mode='max'\n",
        ")"
      ]
    },
    {
      "cell_type": "code",
      "execution_count": 167,
      "metadata": {
        "id": "gXv6Od6o0N7Q"
      },
      "outputs": [],
      "source": [
        "# 모델 최적 성능 저장 콜백\n",
        "checkpoint_callback = pl.callbacks.ModelCheckpoint(\n",
        "    monitor='val_f1',\n",
        "    dirpath='checkpoints/',\n",
        "    filename='single-aa-emdedding-model-best-checkpoint',\n",
        "    save_top_k=1,\n",
        "    mode='max'\n",
        ")"
      ]
    },
    {
      "cell_type": "code",
      "execution_count": 168,
      "metadata": {
        "id": "1uiE4HGNNNiT"
      },
      "outputs": [],
      "source": [
        "# 학습률 모니터 콜백 설정\n",
        "def configure_optimizers(self):\n",
        "\n",
        "    # ReduceLROnPlateau 스케줄러 설정\n",
        "    scheduler = {\n",
        "        'scheduler': torch.optim.lr_scheduler.ReduceLROnPlateau(\n",
        "            optimizer, mode='min', factor=0.5, patience=learning_rate_patience, min_lr=1e-6, verbose=True\n",
        "        ),\n",
        "        'monitor': 'val_loss',  # 감소시킬 지표 지정\n",
        "        'name': 'Adam'  # 학습률 로깅 이름 설정 (선택 사항)\n",
        "    }\n",
        "\n",
        "    return [optimizer], [scheduler]\n",
        "\n",
        "lr_monitor = LearningRateMonitor(logging_interval='epoch')"
      ]
    },
    {
      "cell_type": "code",
      "execution_count": 169,
      "metadata": {
        "id": "UciMQ9vNH9rM"
      },
      "outputs": [],
      "source": [
        "# CSV Logger: 로그를 'logs/' 디렉터리에 저장\n",
        "csv_logger = CSVLogger(save_dir='logs/', name='single_aa_embedding_model')"
      ]
    },
    {
      "cell_type": "markdown",
      "metadata": {
        "id": "okQaRR9H0RQq"
      },
      "source": [
        "## 학습"
      ]
    },
    {
      "cell_type": "code",
      "execution_count": 170,
      "metadata": {
        "colab": {
          "base_uri": "https://localhost:8080/"
        },
        "id": "kUYD_KGn0TnC",
        "outputId": "5438b2e3-e502-458b-eec4-961ab627c346"
      },
      "outputs": [
        {
          "name": "stderr",
          "output_type": "stream",
          "text": [
            "INFO:pytorch_lightning.utilities.rank_zero:GPU available: True (cuda), used: True\n",
            "INFO:pytorch_lightning.utilities.rank_zero:TPU available: False, using: 0 TPU cores\n",
            "INFO:pytorch_lightning.utilities.rank_zero:HPU available: False, using: 0 HPUs\n"
          ]
        }
      ],
      "source": [
        "# Trainer 인스턴스 생성\n",
        "trainer = pl.Trainer(\n",
        "    max_epochs=50,\n",
        "    accelerator='gpu' if torch.cuda.is_available() else 'cpu',\n",
        "    devices=1 if torch.cuda.is_available() else None,\n",
        "    callbacks=[early_stop_callback, checkpoint_callback, lr_monitor],\n",
        "    logger=csv_logger\n",
        ")"
      ]
    },
    {
      "cell_type": "code",
      "execution_count": 171,
      "metadata": {
        "colab": {
          "base_uri": "https://localhost:8080/",
          "height": 468,
          "referenced_widgets": [
            "8d7697c47ece4f359e464ef67cdc473a",
            "53f6aa91872f41d4bf098b8ca9442dab",
            "cebd2a5e64714e1bb81a59b9f34bf33e",
            "a18413c102f04f4f811ccad34040933e",
            "28f9c8827253475baa5add06fa50a319",
            "5f4ab61725f340d7bc7298925b11132c",
            "8839384700a546d48ecf8214f09962a1",
            "6a96c4850c5f4317b215bfa391821b59",
            "1b945f9cc29d4d6bbf503e6413df91b1",
            "3be0d48f9e424ad197f11a7178700e26",
            "db8565c071cf4a52807c4e88b1bf388e",
            "9b9df91698b048b88f7fb00fad7a4e73",
            "4816c5a9133b4be780a7a007c188ef42",
            "e5804d37cbda4fc087118a451c50a85a",
            "a4e4784870434abd8d518bd56e2163b7",
            "e300b26b818349888716313ca8534677",
            "43e6d89bbee646f8913e5cd8613f72ea",
            "78c85237d0d0458bb1aa4a3c48e57437",
            "5187e8c2c5ce437fb60be1b3fd86cdf3",
            "028b8282cf0f4db2909a1ecccff408c0",
            "bafb748328db4c6bb2122f61519bb9db",
            "eea09af89f164c78a52f5d74f0448186",
            "f9e05998c4f14ba694d17f27985c8bab",
            "d78f630935ac417fa7be5522bfbcd9ae",
            "77486ff39ed44d3c82d1a3b2a0ff3b7b",
            "2bf2edf275aa419b937cbd3ba0428838",
            "e25481cd966148ca8a04f3d542b1c68d",
            "8e661cbd137346bc9a989fb2c5b11457",
            "7c88106db7b044539ba392953d58ab1d",
            "2ed68535502442808de8631261c946c9",
            "a535dac75cae4e7d91d2342059fbf210",
            "12bd462d42ec4089986a9661b23825f8",
            "68964ac2de624c0182beeef55a043d67",
            "a9201108bf7845a480fb0257a61a5a59",
            "49467ef6a79b4e59acfeda45d352368b",
            "52e3703e2d5a4fcdaffc0c3bc596a299",
            "049e69abaeea4b8d97b48d0be294e8b3",
            "ec580058878f4d35b923d447940313e2",
            "2cbaa55d8bbc447491bc18f5a2cc397f",
            "a3337e316da442e695b4ec7f42cd30f4",
            "88325e7600e640239422b384a29ee474",
            "bd365a10696b4e5a9aab5a0e19595eb9",
            "8a7d923636cb4d35a04ea9484db3079e",
            "4e502ef14fee41b898b2fd20a5e026a2",
            "1f0c1ddab2f64b39a436833bbe06493f",
            "89676d62e1e64feaa3c4668566e2cf18",
            "f5da4276371e4e9c94582f789f7f55a2",
            "8e987cfc5524474490e96398dab1acbc",
            "764668c39b9047d4af05e9864705903c",
            "b56d7df5394242afae031f810884175b",
            "fc6ee4711efc4bc184d0ed6f5bdae24c",
            "00003b3163174a49a92253bdb51c43ef",
            "b5910e99c3eb419bb450efa02fdf85ef",
            "014045816d994e738fbaa60a9bc96685",
            "5d5ef75802a74b7a8221b00bbaeb9bed",
            "1b35d12057834bc186c8a7ea049e5e3b",
            "742f53fc471241fb992636826aea3997",
            "4cd2933da4bc426a9331929a75d59563",
            "9310e3e7a4f54a048660365a4fede357",
            "386221a616704b2691c3b1a0990bd23b",
            "0551e63b133a498f87fb461f9a4e00f4",
            "1224bdb4afa34ee8ba31ac0250206962",
            "3abc2984ba4c4c29befd9c1e9f06bd87",
            "c5839b7ae33c4a8888267fc8756454f5",
            "11c868e66b6f487daf286a5fba23bfc1",
            "4a68926e3b9f45619de8b3ce117f3e6f",
            "733e13932aa143d2a55d188d20e9fa9b",
            "8e0ee9bef8484b138c280ff2df7b7db8",
            "d1642a0863c547fb9d4cb17745b4a7df",
            "aa78b200234b45068428fef49f2cb057",
            "0de4ebe0fece4cadaa4937c052f06c2c",
            "21f9d8a8b8e740fbb295a55015ca345b",
            "045348cb5c9c4892909ce6d94c5cfea5",
            "95f3f08da2a64550a1917e30130fa4d9",
            "6abecdb6696a455a80f6d827e9e4e325",
            "69498482b5f04b199c9e802a91d8bbf9",
            "bebef1dd10b44e648e0af05af38a3d1d",
            "42d74dc03d6e4abcbe6016a7e780a0fa",
            "0022a35d0f604f54a4134bbfe9a3a149",
            "019a1a034f754bdb862da214251bc16a",
            "1b6512b7708a4a25a5db97d2da37688a",
            "76cabb64e3d44aa59fff5af50991fa46",
            "3f5c36e096254af384b6693546e68312",
            "b5fff3a4c6644918b2421b611ac5513a",
            "3ca2d26d229e4c8a939532bb3a327636",
            "9d4fc3b3826d435c9dced812b3a251da",
            "d952d816f0984df1a85ba257d8352cae",
            "dba24db9e46848a7aee2ec71338bcd25"
          ]
        },
        "id": "oRh7FSGX0VsP",
        "outputId": "89ad5afa-c248-4a73-b159-1bd7e79c96c7"
      },
      "outputs": [
        {
          "name": "stderr",
          "output_type": "stream",
          "text": [
            "/usr/local/lib/python3.10/dist-packages/pytorch_lightning/callbacks/model_checkpoint.py:654: Checkpoint directory /content/CancerSubtypesAI/checkpoints exists and is not empty.\n",
            "INFO:pytorch_lightning.accelerators.cuda:LOCAL_RANK: 0 - CUDA_VISIBLE_DEVICES: [0]\n",
            "INFO:pytorch_lightning.callbacks.model_summary:\n",
            "  | Name           | Type              | Params | Mode \n",
            "-------------------------------------------------------------\n",
            "0 | gene_embedding | Embedding         | 280 K  | train\n",
            "1 | type_embedding | Embedding         | 512    | train\n",
            "2 | feature_fc     | Linear            | 832    | train\n",
            "3 | fc             | Sequential        | 56.1 K | train\n",
            "4 | criterion      | CrossEntropyLoss  | 0      | train\n",
            "5 | train_f1       | MulticlassF1Score | 0      | train\n",
            "6 | val_f1         | MulticlassF1Score | 0      | train\n",
            "7 | test_f1        | MulticlassF1Score | 0      | train\n",
            "-------------------------------------------------------------\n",
            "338 K     Trainable params\n",
            "0         Non-trainable params\n",
            "338 K     Total params\n",
            "1.352     Total estimated model params size (MB)\n",
            "11        Modules in train mode\n",
            "0         Modules in eval mode\n"
          ]
        },
        {
          "data": {
            "application/vnd.jupyter.widget-view+json": {
              "model_id": "8d7697c47ece4f359e464ef67cdc473a",
              "version_major": 2,
              "version_minor": 0
            },
            "text/plain": [
              "Sanity Checking: |          | 0/? [00:00<?, ?it/s]"
            ]
          },
          "metadata": {},
          "output_type": "display_data"
        },
        {
          "data": {
            "application/vnd.jupyter.widget-view+json": {
              "model_id": "9b9df91698b048b88f7fb00fad7a4e73",
              "version_major": 2,
              "version_minor": 0
            },
            "text/plain": [
              "Training: |          | 0/? [00:00<?, ?it/s]"
            ]
          },
          "metadata": {},
          "output_type": "display_data"
        },
        {
          "data": {
            "application/vnd.jupyter.widget-view+json": {
              "model_id": "f9e05998c4f14ba694d17f27985c8bab",
              "version_major": 2,
              "version_minor": 0
            },
            "text/plain": [
              "Validation: |          | 0/? [00:00<?, ?it/s]"
            ]
          },
          "metadata": {},
          "output_type": "display_data"
        },
        {
          "name": "stderr",
          "output_type": "stream",
          "text": [
            "INFO:pytorch_lightning.callbacks.early_stopping:Metric val_loss improved. New best score: 2.857\n"
          ]
        },
        {
          "data": {
            "application/vnd.jupyter.widget-view+json": {
              "model_id": "a9201108bf7845a480fb0257a61a5a59",
              "version_major": 2,
              "version_minor": 0
            },
            "text/plain": [
              "Validation: |          | 0/? [00:00<?, ?it/s]"
            ]
          },
          "metadata": {},
          "output_type": "display_data"
        },
        {
          "data": {
            "application/vnd.jupyter.widget-view+json": {
              "model_id": "1f0c1ddab2f64b39a436833bbe06493f",
              "version_major": 2,
              "version_minor": 0
            },
            "text/plain": [
              "Validation: |          | 0/? [00:00<?, ?it/s]"
            ]
          },
          "metadata": {},
          "output_type": "display_data"
        },
        {
          "data": {
            "application/vnd.jupyter.widget-view+json": {
              "model_id": "1b35d12057834bc186c8a7ea049e5e3b",
              "version_major": 2,
              "version_minor": 0
            },
            "text/plain": [
              "Validation: |          | 0/? [00:00<?, ?it/s]"
            ]
          },
          "metadata": {},
          "output_type": "display_data"
        },
        {
          "data": {
            "application/vnd.jupyter.widget-view+json": {
              "model_id": "733e13932aa143d2a55d188d20e9fa9b",
              "version_major": 2,
              "version_minor": 0
            },
            "text/plain": [
              "Validation: |          | 0/? [00:00<?, ?it/s]"
            ]
          },
          "metadata": {},
          "output_type": "display_data"
        },
        {
          "data": {
            "application/vnd.jupyter.widget-view+json": {
              "model_id": "42d74dc03d6e4abcbe6016a7e780a0fa",
              "version_major": 2,
              "version_minor": 0
            },
            "text/plain": [
              "Validation: |          | 0/? [00:00<?, ?it/s]"
            ]
          },
          "metadata": {},
          "output_type": "display_data"
        },
        {
          "name": "stderr",
          "output_type": "stream",
          "text": [
            "INFO:pytorch_lightning.callbacks.early_stopping:Monitored metric val_loss did not improve in the last 5 records. Best score: 2.857. Signaling Trainer to stop.\n"
          ]
        }
      ],
      "source": [
        "# 모델 및 데이터 모듈 인스턴스 생성\n",
        "model = GeneMutationModel(num_genes, num_types, embedding_dim, num_features, hidden_dim, num_classes)\n",
        "data_module = MutationDataModule(all_samples_data, sample_targets, batch_size=batch_size)\n",
        "\n",
        "# 학습 시작\n",
        "trainer.fit(model, data_module)"
      ]
    },
    {
      "cell_type": "markdown",
      "metadata": {
        "id": "RQoUvnRvQFjL"
      },
      "source": [
        "# 결과 확인"
      ]
    },
    {
      "cell_type": "code",
      "execution_count": 176,
      "metadata": {
        "colab": {
          "base_uri": "https://localhost:8080/",
          "height": 581
        },
        "id": "0SD6EFjP0YXv",
        "outputId": "04f3803a-e1fa-4795-8a14-b931224ac5ff"
      },
      "outputs": [
        {
          "data": {
            "image/png": "[encoded data removed]",
            "text/plain": [
              "<Figure size 1800x600 with 3 Axes>"
            ]
          },
          "metadata": {},
          "output_type": "display_data"
        }
      ],
      "source": [
        "# 로그 데이터 읽기\n",
        "metrics = pd.read_csv('/content/CancerSubtypesAI/logs/single_aa_embedding_model/version_0/metrics.csv')\n",
        "\n",
        "# 전체 그래프 크기 설정\n",
        "plt.figure(figsize=(18, 6))\n",
        "\n",
        "# Loss 그래프\n",
        "plt.subplot(1, 3, 1)\n",
        "plt.plot(metrics['epoch'][~metrics['train_loss'].isna()],\n",
        "         metrics['train_loss'][~metrics['train_loss'].isna()],\n",
        "         label='Train Loss'\n",
        "         )\n",
        "plt.plot(metrics['epoch'][~metrics['val_loss'].isna()],\n",
        "         metrics['val_loss'][~metrics['val_loss'].isna()],\n",
        "         label='Validation Loss'\n",
        "         )\n",
        "plt.xlabel('Epoch')\n",
        "plt.ylabel('Loss')\n",
        "plt.legend()\n",
        "\n",
        "# Accuracy 그래프\n",
        "plt.subplot(1, 3, 2)\n",
        "plt.plot(metrics['epoch'][~metrics['train_acc'].isna()],\n",
        "         metrics['train_acc'][~metrics['train_acc'].isna()],\n",
        "         label='Train Accuracy'\n",
        "         )\n",
        "plt.plot(metrics['epoch'][~metrics['val_acc'].isna()],\n",
        "         metrics['val_acc'][~metrics['val_acc'].isna()],\n",
        "         label='Validation Accuracy'\n",
        "         )\n",
        "plt.xlabel('Epoch')\n",
        "plt.ylabel('Accuracy')\n",
        "plt.legend()\n",
        "\n",
        "# F1-Score 그래프\n",
        "plt.subplot(1, 3, 3)\n",
        "plt.plot(metrics['epoch'][~metrics['train_f1'].isna()],\n",
        "         metrics['train_f1'][~metrics['train_f1'].isna()],\n",
        "         label='Train F1'\n",
        "         )\n",
        "plt.plot(metrics['epoch'][~metrics['val_f1'].isna()],\n",
        "         metrics['val_f1'][~metrics['val_f1'].isna()],\n",
        "         label='Validation F1'\n",
        "         )\n",
        "plt.xlabel('Epoch')\n",
        "plt.ylabel('F1 Score')\n",
        "plt.legend()\n",
        "\n",
        "# 그래프 모두 표시\n",
        "plt.tight_layout()\n",
        "plt.show()"
      ]
    },
    {
      "cell_type": "code",
      "execution_count": 178,
      "metadata": {
        "colab": {
          "base_uri": "https://localhost:8080/"
        },
        "id": "zmnkP7X0QKKB",
        "outputId": "8a894cd4-5ab5-4994-a808-373d0d170615"
      },
      "outputs": [
        {
          "name": "stderr",
          "output_type": "stream",
          "text": [
            "<ipython-input-178-00a9b450dca1>:3: FutureWarning: You are using `torch.load` with `weights_only=False` (the current default value), which uses the default pickle module implicitly. It is possible to construct malicious pickle data which will execute arbitrary code during unpickling (See https://github.com/pytorch/pytorch/blob/main/SECURITY.md#untrusted-models for more details). In a future release, the default value for `weights_only` will be flipped to `True`. This limits the functions that could be executed during unpickling. Arbitrary objects will no longer be allowed to be loaded via this mode unless they are explicitly allowlisted by the user via `torch.serialization.add_safe_globals`. We recommend you start setting `weights_only=True` for any use case where you don't have full control of the loaded file. Please open an issue on GitHub for any issues related to this experimental feature.\n",
            "  checkpoint = torch.load('checkpoints/single-aa-emdedding-model-best-checkpoint.ckpt')\n"
          ]
        },
        {
          "data": {
            "text/plain": [
              "GeneMutationModel(\n",
              "  (gene_embedding): Embedding(4385, 64, padding_idx=0)\n",
              "  (type_embedding): Embedding(8, 64, padding_idx=0)\n",
              "  (feature_fc): Linear(in_features=12, out_features=64, bias=True)\n",
              "  (fc): Sequential(\n",
              "    (0): Linear(in_features=192, out_features=256, bias=True)\n",
              "    (1): ReLU()\n",
              "    (2): Linear(in_features=256, out_features=26, bias=True)\n",
              "  )\n",
              "  (criterion): CrossEntropyLoss()\n",
              "  (train_f1): MulticlassF1Score()\n",
              "  (val_f1): MulticlassF1Score()\n",
              "  (test_f1): MulticlassF1Score()\n",
              ")"
            ]
          },
          "execution_count": 178,
          "metadata": {},
          "output_type": "execute_result"
        }
      ],
      "source": [
        "# 저장된 Best Checkpoint 불러오기\n",
        "best_model = GeneMutationModel(num_genes, num_types, embedding_dim, num_features, hidden_dim, num_classes)\n",
        "checkpoint = torch.load('checkpoints/single-aa-emdedding-model-best-checkpoint.ckpt')\n",
        "\n",
        "# 모델에 파라미터 로드\n",
        "best_model.load_state_dict(checkpoint['state_dict'])\n",
        "\n",
        "# GPU 사용 설정\n",
        "device = torch.device('cuda' if torch.cuda.is_available() else 'cpu')\n",
        "best_model.to(device)\n",
        "best_model.eval()"
      ]
    },
    {
      "cell_type": "code",
      "execution_count": 179,
      "metadata": {
        "colab": {
          "base_uri": "https://localhost:8080/"
        },
        "id": "WrCerhCcQWlx",
        "outputId": "aa081aa9-04cf-4080-c47e-6038c11c3006"
      },
      "outputs": [
        {
          "name": "stdout",
          "output_type": "stream",
          "text": [
            "Validation Accuracy: 0.2998\n",
            "Validation F1 Score: 0.2154\n"
          ]
        }
      ],
      "source": [
        "all_preds = []\n",
        "all_targets = []\n",
        "\n",
        "# 검증 세트에 대한 평가\n",
        "with torch.no_grad():\n",
        "    for batch in val_loader:\n",
        "        inputs = batch['sample'].to(device)\n",
        "        targets = batch['target'].to(device)\n",
        "\n",
        "        outputs = best_model(inputs)\n",
        "        preds = torch.argmax(outputs, dim=1)\n",
        "\n",
        "        all_preds.extend(preds.cpu().numpy())\n",
        "        all_targets.extend(targets.cpu().numpy())\n",
        "\n",
        "# Accuracy와 F1-score 계산\n",
        "acc = accuracy_score(all_targets, all_preds)\n",
        "f1 = f1_score(all_targets, all_preds, average='macro')\n",
        "\n",
        "print(f\"Validation Accuracy: {acc:.4f}\")\n",
        "print(f\"Validation F1 Score: {f1:.4f}\")"
      ]
    }
  ],
  "metadata": {
    "accelerator": "GPU",
    "colab": {
      "gpuType": "T4",
      "provenance": []
    },
    "kernelspec": {
      "display_name": "Python 3",
      "name": "python3"
    },
    "language_info": {
      "name": "python"
    },
    "widgets": {
      "application/vnd.jupyter.widget-state+json": {
        "00003b3163174a49a92253bdb51c43ef": {
          "model_module": "@jupyter-widgets/base",
          "model_module_version": "1.2.0",
          "model_name": "LayoutModel",
          "state": {
            "_model_module": "@jupyter-widgets/base",
            "_model_module_version": "1.2.0",
            "_model_name": "LayoutModel",
            "_view_count": null,
            "_view_module": "@jupyter-widgets/base",
            "_view_module_version": "1.2.0",
            "_view_name": "LayoutView",
            "align_content": null,
            "align_items": null,
            "align_self": null,
            "border": null,
            "bottom": null,
            "display": null,
            "flex": "2",
            "flex_flow": null,
            "grid_area": null,
            "grid_auto_columns": null,
            "grid_auto_flow": null,
            "grid_auto_rows": null,
            "grid_column": null,
            "grid_gap": null,
            "grid_row": null,
            "grid_template_areas": null,
            "grid_template_columns": null,
            "grid_template_rows": null,
            "height": null,
            "justify_content": null,
            "justify_items": null,
            "left": null,
            "margin": null,
            "max_height": null,
            "max_width": null,
            "min_height": null,
            "min_width": null,
            "object_fit": null,
            "object_position": null,
            "order": null,
            "overflow": null,
            "overflow_x": null,
            "overflow_y": null,
            "padding": null,
            "right": null,
            "top": null,
            "visibility": null,
            "width": null
          }
        },
        "0022a35d0f604f54a4134bbfe9a3a149": {
          "model_module": "@jupyter-widgets/controls",
          "model_module_version": "1.5.0",
          "model_name": "HTMLModel",
          "state": {
            "_dom_classes": [],
            "_model_module": "@jupyter-widgets/controls",
            "_model_module_version": "1.5.0",
            "_model_name": "HTMLModel",
            "_view_count": null,
            "_view_module": "@jupyter-widgets/controls",
            "_view_module_version": "1.5.0",
            "_view_name": "HTMLView",
            "description": "",
            "description_tooltip": null,
            "layout": "IPY_MODEL_3f5c36e096254af384b6693546e68312",
            "placeholder": "​",
            "style": "IPY_MODEL_b5fff3a4c6644918b2421b611ac5513a",
            "value": "Validation DataLoader 0: 100%"
          }
        },
        "014045816d994e738fbaa60a9bc96685": {
          "model_module": "@jupyter-widgets/base",
          "model_module_version": "1.2.0",
          "model_name": "LayoutModel",
          "state": {
            "_model_module": "@jupyter-widgets/base",
            "_model_module_version": "1.2.0",
            "_model_name": "LayoutModel",
            "_view_count": null,
            "_view_module": "@jupyter-widgets/base",
            "_view_module_version": "1.2.0",
            "_view_name": "LayoutView",
            "align_content": null,
            "align_items": null,
            "align_self": null,
            "border": null,
            "bottom": null,
            "display": null,
            "flex": null,
            "flex_flow": null,
            "grid_area": null,
            "grid_auto_columns": null,
            "grid_auto_flow": null,
            "grid_auto_rows": null,
            "grid_column": null,
            "grid_gap": null,
            "grid_row": null,
            "grid_template_areas": null,
            "grid_template_columns": null,
            "grid_template_rows": null,
            "height": null,
            "justify_content": null,
            "justify_items": null,
            "left": null,
            "margin": null,
            "max_height": null,
            "max_width": null,
            "min_height": null,
            "min_width": null,
            "object_fit": null,
            "object_position": null,
            "order": null,
            "overflow": null,
            "overflow_x": null,
            "overflow_y": null,
            "padding": null,
            "right": null,
            "top": null,
            "visibility": null,
            "width": null
          }
        },
        "019a1a034f754bdb862da214251bc16a": {
          "model_module": "@jupyter-widgets/controls",
          "model_module_version": "1.5.0",
          "model_name": "FloatProgressModel",
          "state": {
            "_dom_classes": [],
            "_model_module": "@jupyter-widgets/controls",
            "_model_module_version": "1.5.0",
            "_model_name": "FloatProgressModel",
            "_view_count": null,
            "_view_module": "@jupyter-widgets/controls",
            "_view_module_version": "1.5.0",
            "_view_name": "ProgressView",
            "bar_style": "",
            "description": "",
            "description_tooltip": null,
            "layout": "IPY_MODEL_3ca2d26d229e4c8a939532bb3a327636",
            "max": 20,
            "min": 0,
            "orientation": "horizontal",
            "style": "IPY_MODEL_9d4fc3b3826d435c9dced812b3a251da",
            "value": 20
          }
        },
        "028b8282cf0f4db2909a1ecccff408c0": {
          "model_module": "@jupyter-widgets/controls",
          "model_module_version": "1.5.0",
          "model_name": "ProgressStyleModel",
          "state": {
            "_model_module": "@jupyter-widgets/controls",
            "_model_module_version": "1.5.0",
            "_model_name": "ProgressStyleModel",
            "_view_count": null,
            "_view_module": "@jupyter-widgets/base",
            "_view_module_version": "1.2.0",
            "_view_name": "StyleView",
            "bar_color": null,
            "description_width": ""
          }
        },
        "045348cb5c9c4892909ce6d94c5cfea5": {
          "model_module": "@jupyter-widgets/controls",
          "model_module_version": "1.5.0",
          "model_name": "DescriptionStyleModel",
          "state": {
            "_model_module": "@jupyter-widgets/controls",
            "_model_module_version": "1.5.0",
            "_model_name": "DescriptionStyleModel",
            "_view_count": null,
            "_view_module": "@jupyter-widgets/base",
            "_view_module_version": "1.2.0",
            "_view_name": "StyleView",
            "description_width": ""
          }
        },
        "049e69abaeea4b8d97b48d0be294e8b3": {
          "model_module": "@jupyter-widgets/controls",
          "model_module_version": "1.5.0",
          "model_name": "HTMLModel",
          "state": {
            "_dom_classes": [],
            "_model_module": "@jupyter-widgets/controls",
            "_model_module_version": "1.5.0",
            "_model_name": "HTMLModel",
            "_view_count": null,
            "_view_module": "@jupyter-widgets/controls",
            "_view_module_version": "1.5.0",
            "_view_name": "HTMLView",
            "description": "",
            "description_tooltip": null,
            "layout": "IPY_MODEL_8a7d923636cb4d35a04ea9484db3079e",
            "placeholder": "​",
            "style": "IPY_MODEL_4e502ef14fee41b898b2fd20a5e026a2",
            "value": " 20/20 [00:00&lt;00:00, 116.48it/s]"
          }
        },
        "0551e63b133a498f87fb461f9a4e00f4": {
          "model_module": "@jupyter-widgets/base",
          "model_module_version": "1.2.0",
          "model_name": "LayoutModel",
          "state": {
            "_model_module": "@jupyter-widgets/base",
            "_model_module_version": "1.2.0",
            "_model_name": "LayoutModel",
            "_view_count": null,
            "_view_module": "@jupyter-widgets/base",
            "_view_module_version": "1.2.0",
            "_view_name": "LayoutView",
            "align_content": null,
            "align_items": null,
            "align_self": null,
            "border": null,
            "bottom": null,
            "display": null,
            "flex": null,
            "flex_flow": null,
            "grid_area": null,
            "grid_auto_columns": null,
            "grid_auto_flow": null,
            "grid_auto_rows": null,
            "grid_column": null,
            "grid_gap": null,
            "grid_row": null,
            "grid_template_areas": null,
            "grid_template_columns": null,
            "grid_template_rows": null,
            "height": null,
            "justify_content": null,
            "justify_items": null,
            "left": null,
            "margin": null,
            "max_height": null,
            "max_width": null,
            "min_height": null,
            "min_width": null,
            "object_fit": null,
            "object_position": null,
            "order": null,
            "overflow": null,
            "overflow_x": null,
            "overflow_y": null,
            "padding": null,
            "right": null,
            "top": null,
            "visibility": null,
            "width": null
          }
        },
        "0de4ebe0fece4cadaa4937c052f06c2c": {
          "model_module": "@jupyter-widgets/base",
          "model_module_version": "1.2.0",
          "model_name": "LayoutModel",
          "state": {
            "_model_module": "@jupyter-widgets/base",
            "_model_module_version": "1.2.0",
            "_model_name": "LayoutModel",
            "_view_count": null,
            "_view_module": "@jupyter-widgets/base",
            "_view_module_version": "1.2.0",
            "_view_name": "LayoutView",
            "align_content": null,
            "align_items": null,
            "align_self": null,
            "border": null,
            "bottom": null,
            "display": "inline-flex",
            "flex": null,
            "flex_flow": "row wrap",
            "grid_area": null,
            "grid_auto_columns": null,
            "grid_auto_flow": null,
            "grid_auto_rows": null,
            "grid_column": null,
            "grid_gap": null,
            "grid_row": null,
            "grid_template_areas": null,
            "grid_template_columns": null,
            "grid_template_rows": null,
            "height": null,
            "justify_content": null,
            "justify_items": null,
            "left": null,
            "margin": null,
            "max_height": null,
            "max_width": null,
            "min_height": null,
            "min_width": null,
            "object_fit": null,
            "object_position": null,
            "order": null,
            "overflow": null,
            "overflow_x": null,
            "overflow_y": null,
            "padding": null,
            "right": null,
            "top": null,
            "visibility": "hidden",
            "width": "100%"
          }
        },
        "11c868e66b6f487daf286a5fba23bfc1": {
          "model_module": "@jupyter-widgets/base",
          "model_module_version": "1.2.0",
          "model_name": "LayoutModel",
          "state": {
            "_model_module": "@jupyter-widgets/base",
            "_model_module_version": "1.2.0",
            "_model_name": "LayoutModel",
            "_view_count": null,
            "_view_module": "@jupyter-widgets/base",
            "_view_module_version": "1.2.0",
            "_view_name": "LayoutView",
            "align_content": null,
            "align_items": null,
            "align_self": null,
            "border": null,
            "bottom": null,
            "display": null,
            "flex": null,
            "flex_flow": null,
            "grid_area": null,
            "grid_auto_columns": null,
            "grid_auto_flow": null,
            "grid_auto_rows": null,
            "grid_column": null,
            "grid_gap": null,
            "grid_row": null,
            "grid_template_areas": null,
            "grid_template_columns": null,
            "grid_template_rows": null,
            "height": null,
            "justify_content": null,
            "justify_items": null,
            "left": null,
            "margin": null,
            "max_height": null,
            "max_width": null,
            "min_height": null,
            "min_width": null,
            "object_fit": null,
            "object_position": null,
            "order": null,
            "overflow": null,
            "overflow_x": null,
            "overflow_y": null,
            "padding": null,
            "right": null,
            "top": null,
            "visibility": null,
            "width": null
          }
        },
        "1224bdb4afa34ee8ba31ac0250206962": {
          "model_module": "@jupyter-widgets/controls",
          "model_module_version": "1.5.0",
          "model_name": "DescriptionStyleModel",
          "state": {
            "_model_module": "@jupyter-widgets/controls",
            "_model_module_version": "1.5.0",
            "_model_name": "DescriptionStyleModel",
            "_view_count": null,
            "_view_module": "@jupyter-widgets/base",
            "_view_module_version": "1.2.0",
            "_view_name": "StyleView",
            "description_width": ""
          }
        },
        "12bd462d42ec4089986a9661b23825f8": {
          "model_module": "@jupyter-widgets/base",
          "model_module_version": "1.2.0",
          "model_name": "LayoutModel",
          "state": {
            "_model_module": "@jupyter-widgets/base",
            "_model_module_version": "1.2.0",
            "_model_name": "LayoutModel",
            "_view_count": null,
            "_view_module": "@jupyter-widgets/base",
            "_view_module_version": "1.2.0",
            "_view_name": "LayoutView",
            "align_content": null,
            "align_items": null,
            "align_self": null,
            "border": null,
            "bottom": null,
            "display": null,
            "flex": null,
            "flex_flow": null,
            "grid_area": null,
            "grid_auto_columns": null,
            "grid_auto_flow": null,
            "grid_auto_rows": null,
            "grid_column": null,
            "grid_gap": null,
            "grid_row": null,
            "grid_template_areas": null,
            "grid_template_columns": null,
            "grid_template_rows": null,
            "height": null,
            "justify_content": null,
            "justify_items": null,
            "left": null,
            "margin": null,
            "max_height": null,
            "max_width": null,
            "min_height": null,
            "min_width": null,
            "object_fit": null,
            "object_position": null,
            "order": null,
            "overflow": null,
            "overflow_x": null,
            "overflow_y": null,
            "padding": null,
            "right": null,
            "top": null,
            "visibility": null,
            "width": null
          }
        },
        "1b35d12057834bc186c8a7ea049e5e3b": {
          "model_module": "@jupyter-widgets/controls",
          "model_module_version": "1.5.0",
          "model_name": "HBoxModel",
          "state": {
            "_dom_classes": [],
            "_model_module": "@jupyter-widgets/controls",
            "_model_module_version": "1.5.0",
            "_model_name": "HBoxModel",
            "_view_count": null,
            "_view_module": "@jupyter-widgets/controls",
            "_view_module_version": "1.5.0",
            "_view_name": "HBoxView",
            "box_style": "",
            "children": [
              "IPY_MODEL_742f53fc471241fb992636826aea3997",
              "IPY_MODEL_4cd2933da4bc426a9331929a75d59563",
              "IPY_MODEL_9310e3e7a4f54a048660365a4fede357"
            ],
            "layout": "IPY_MODEL_386221a616704b2691c3b1a0990bd23b"
          }
        },
        "1b6512b7708a4a25a5db97d2da37688a": {
          "model_module": "@jupyter-widgets/controls",
          "model_module_version": "1.5.0",
          "model_name": "HTMLModel",
          "state": {
            "_dom_classes": [],
            "_model_module": "@jupyter-widgets/controls",
            "_model_module_version": "1.5.0",
            "_model_name": "HTMLModel",
            "_view_count": null,
            "_view_module": "@jupyter-widgets/controls",
            "_view_module_version": "1.5.0",
            "_view_name": "HTMLView",
            "description": "",
            "description_tooltip": null,
            "layout": "IPY_MODEL_d952d816f0984df1a85ba257d8352cae",
            "placeholder": "​",
            "style": "IPY_MODEL_dba24db9e46848a7aee2ec71338bcd25",
            "value": " 20/20 [00:00&lt;00:00, 92.56it/s]"
          }
        },
        "1b945f9cc29d4d6bbf503e6413df91b1": {
          "model_module": "@jupyter-widgets/controls",
          "model_module_version": "1.5.0",
          "model_name": "ProgressStyleModel",
          "state": {
            "_model_module": "@jupyter-widgets/controls",
            "_model_module_version": "1.5.0",
            "_model_name": "ProgressStyleModel",
            "_view_count": null,
            "_view_module": "@jupyter-widgets/base",
            "_view_module_version": "1.2.0",
            "_view_name": "StyleView",
            "bar_color": null,
            "description_width": ""
          }
        },
        "1f0c1ddab2f64b39a436833bbe06493f": {
          "model_module": "@jupyter-widgets/controls",
          "model_module_version": "1.5.0",
          "model_name": "HBoxModel",
          "state": {
            "_dom_classes": [],
            "_model_module": "@jupyter-widgets/controls",
            "_model_module_version": "1.5.0",
            "_model_name": "HBoxModel",
            "_view_count": null,
            "_view_module": "@jupyter-widgets/controls",
            "_view_module_version": "1.5.0",
            "_view_name": "HBoxView",
            "box_style": "",
            "children": [
              "IPY_MODEL_89676d62e1e64feaa3c4668566e2cf18",
              "IPY_MODEL_f5da4276371e4e9c94582f789f7f55a2",
              "IPY_MODEL_8e987cfc5524474490e96398dab1acbc"
            ],
            "layout": "IPY_MODEL_764668c39b9047d4af05e9864705903c"
          }
        },
        "21f9d8a8b8e740fbb295a55015ca345b": {
          "model_module": "@jupyter-widgets/base",
          "model_module_version": "1.2.0",
          "model_name": "LayoutModel",
          "state": {
            "_model_module": "@jupyter-widgets/base",
            "_model_module_version": "1.2.0",
            "_model_name": "LayoutModel",
            "_view_count": null,
            "_view_module": "@jupyter-widgets/base",
            "_view_module_version": "1.2.0",
            "_view_name": "LayoutView",
            "align_content": null,
            "align_items": null,
            "align_self": null,
            "border": null,
            "bottom": null,
            "display": null,
            "flex": null,
            "flex_flow": null,
            "grid_area": null,
            "grid_auto_columns": null,
            "grid_auto_flow": null,
            "grid_auto_rows": null,
            "grid_column": null,
            "grid_gap": null,
            "grid_row": null,
            "grid_template_areas": null,
            "grid_template_columns": null,
            "grid_template_rows": null,
            "height": null,
            "justify_content": null,
            "justify_items": null,
            "left": null,
            "margin": null,
            "max_height": null,
            "max_width": null,
            "min_height": null,
            "min_width": null,
            "object_fit": null,
            "object_position": null,
            "order": null,
            "overflow": null,
            "overflow_x": null,
            "overflow_y": null,
            "padding": null,
            "right": null,
            "top": null,
            "visibility": null,
            "width": null
          }
        },
        "28f9c8827253475baa5add06fa50a319": {
          "model_module": "@jupyter-widgets/base",
          "model_module_version": "1.2.0",
          "model_name": "LayoutModel",
          "state": {
            "_model_module": "@jupyter-widgets/base",
            "_model_module_version": "1.2.0",
            "_model_name": "LayoutModel",
            "_view_count": null,
            "_view_module": "@jupyter-widgets/base",
            "_view_module_version": "1.2.0",
            "_view_name": "LayoutView",
            "align_content": null,
            "align_items": null,
            "align_self": null,
            "border": null,
            "bottom": null,
            "display": "inline-flex",
            "flex": null,
            "flex_flow": "row wrap",
            "grid_area": null,
            "grid_auto_columns": null,
            "grid_auto_flow": null,
            "grid_auto_rows": null,
            "grid_column": null,
            "grid_gap": null,
            "grid_row": null,
            "grid_template_areas": null,
            "grid_template_columns": null,
            "grid_template_rows": null,
            "height": null,
            "justify_content": null,
            "justify_items": null,
            "left": null,
            "margin": null,
            "max_height": null,
            "max_width": null,
            "min_height": null,
            "min_width": null,
            "object_fit": null,
            "object_position": null,
            "order": null,
            "overflow": null,
            "overflow_x": null,
            "overflow_y": null,
            "padding": null,
            "right": null,
            "top": null,
            "visibility": "hidden",
            "width": "100%"
          }
        },
        "2bf2edf275aa419b937cbd3ba0428838": {
          "model_module": "@jupyter-widgets/controls",
          "model_module_version": "1.5.0",
          "model_name": "HTMLModel",
          "state": {
            "_dom_classes": [],
            "_model_module": "@jupyter-widgets/controls",
            "_model_module_version": "1.5.0",
            "_model_name": "HTMLModel",
            "_view_count": null,
            "_view_module": "@jupyter-widgets/controls",
            "_view_module_version": "1.5.0",
            "_view_name": "HTMLView",
            "description": "",
            "description_tooltip": null,
            "layout": "IPY_MODEL_12bd462d42ec4089986a9661b23825f8",
            "placeholder": "​",
            "style": "IPY_MODEL_68964ac2de624c0182beeef55a043d67",
            "value": " 20/20 [00:00&lt;00:00, 134.51it/s]"
          }
        },
        "2cbaa55d8bbc447491bc18f5a2cc397f": {
          "model_module": "@jupyter-widgets/base",
          "model_module_version": "1.2.0",
          "model_name": "LayoutModel",
          "state": {
            "_model_module": "@jupyter-widgets/base",
            "_model_module_version": "1.2.0",
            "_model_name": "LayoutModel",
            "_view_count": null,
            "_view_module": "@jupyter-widgets/base",
            "_view_module_version": "1.2.0",
            "_view_name": "LayoutView",
            "align_content": null,
            "align_items": null,
            "align_self": null,
            "border": null,
            "bottom": null,
            "display": null,
            "flex": null,
            "flex_flow": null,
            "grid_area": null,
            "grid_auto_columns": null,
            "grid_auto_flow": null,
            "grid_auto_rows": null,
            "grid_column": null,
            "grid_gap": null,
            "grid_row": null,
            "grid_template_areas": null,
            "grid_template_columns": null,
            "grid_template_rows": null,
            "height": null,
            "justify_content": null,
            "justify_items": null,
            "left": null,
            "margin": null,
            "max_height": null,
            "max_width": null,
            "min_height": null,
            "min_width": null,
            "object_fit": null,
            "object_position": null,
            "order": null,
            "overflow": null,
            "overflow_x": null,
            "overflow_y": null,
            "padding": null,
            "right": null,
            "top": null,
            "visibility": null,
            "width": null
          }
        },
        "2ed68535502442808de8631261c946c9": {
          "model_module": "@jupyter-widgets/base",
          "model_module_version": "1.2.0",
          "model_name": "LayoutModel",
          "state": {
            "_model_module": "@jupyter-widgets/base",
            "_model_module_version": "1.2.0",
            "_model_name": "LayoutModel",
            "_view_count": null,
            "_view_module": "@jupyter-widgets/base",
            "_view_module_version": "1.2.0",
            "_view_name": "LayoutView",
            "align_content": null,
            "align_items": null,
            "align_self": null,
            "border": null,
            "bottom": null,
            "display": null,
            "flex": "2",
            "flex_flow": null,
            "grid_area": null,
            "grid_auto_columns": null,
            "grid_auto_flow": null,
            "grid_auto_rows": null,
            "grid_column": null,
            "grid_gap": null,
            "grid_row": null,
            "grid_template_areas": null,
            "grid_template_columns": null,
            "grid_template_rows": null,
            "height": null,
            "justify_content": null,
            "justify_items": null,
            "left": null,
            "margin": null,
            "max_height": null,
            "max_width": null,
            "min_height": null,
            "min_width": null,
            "object_fit": null,
            "object_position": null,
            "order": null,
            "overflow": null,
            "overflow_x": null,
            "overflow_y": null,
            "padding": null,
            "right": null,
            "top": null,
            "visibility": null,
            "width": null
          }
        },
        "386221a616704b2691c3b1a0990bd23b": {
          "model_module": "@jupyter-widgets/base",
          "model_module_version": "1.2.0",
          "model_name": "LayoutModel",
          "state": {
            "_model_module": "@jupyter-widgets/base",
            "_model_module_version": "1.2.0",
            "_model_name": "LayoutModel",
            "_view_count": null,
            "_view_module": "@jupyter-widgets/base",
            "_view_module_version": "1.2.0",
            "_view_name": "LayoutView",
            "align_content": null,
            "align_items": null,
            "align_self": null,
            "border": null,
            "bottom": null,
            "display": "inline-flex",
            "flex": null,
            "flex_flow": "row wrap",
            "grid_area": null,
            "grid_auto_columns": null,
            "grid_auto_flow": null,
            "grid_auto_rows": null,
            "grid_column": null,
            "grid_gap": null,
            "grid_row": null,
            "grid_template_areas": null,
            "grid_template_columns": null,
            "grid_template_rows": null,
            "height": null,
            "justify_content": null,
            "justify_items": null,
            "left": null,
            "margin": null,
            "max_height": null,
            "max_width": null,
            "min_height": null,
            "min_width": null,
            "object_fit": null,
            "object_position": null,
            "order": null,
            "overflow": null,
            "overflow_x": null,
            "overflow_y": null,
            "padding": null,
            "right": null,
            "top": null,
            "visibility": "hidden",
            "width": "100%"
          }
        },
        "3abc2984ba4c4c29befd9c1e9f06bd87": {
          "model_module": "@jupyter-widgets/base",
          "model_module_version": "1.2.0",
          "model_name": "LayoutModel",
          "state": {
            "_model_module": "@jupyter-widgets/base",
            "_model_module_version": "1.2.0",
            "_model_name": "LayoutModel",
            "_view_count": null,
            "_view_module": "@jupyter-widgets/base",
            "_view_module_version": "1.2.0",
            "_view_name": "LayoutView",
            "align_content": null,
            "align_items": null,
            "align_self": null,
            "border": null,
            "bottom": null,
            "display": null,
            "flex": "2",
            "flex_flow": null,
            "grid_area": null,
            "grid_auto_columns": null,
            "grid_auto_flow": null,
            "grid_auto_rows": null,
            "grid_column": null,
            "grid_gap": null,
            "grid_row": null,
            "grid_template_areas": null,
            "grid_template_columns": null,
            "grid_template_rows": null,
            "height": null,
            "justify_content": null,
            "justify_items": null,
            "left": null,
            "margin": null,
            "max_height": null,
            "max_width": null,
            "min_height": null,
            "min_width": null,
            "object_fit": null,
            "object_position": null,
            "order": null,
            "overflow": null,
            "overflow_x": null,
            "overflow_y": null,
            "padding": null,
            "right": null,
            "top": null,
            "visibility": null,
            "width": null
          }
        },
        "3be0d48f9e424ad197f11a7178700e26": {
          "model_module": "@jupyter-widgets/base",
          "model_module_version": "1.2.0",
          "model_name": "LayoutModel",
          "state": {
            "_model_module": "@jupyter-widgets/base",
            "_model_module_version": "1.2.0",
            "_model_name": "LayoutModel",
            "_view_count": null,
            "_view_module": "@jupyter-widgets/base",
            "_view_module_version": "1.2.0",
            "_view_name": "LayoutView",
            "align_content": null,
            "align_items": null,
            "align_self": null,
            "border": null,
            "bottom": null,
            "display": null,
            "flex": null,
            "flex_flow": null,
            "grid_area": null,
            "grid_auto_columns": null,
            "grid_auto_flow": null,
            "grid_auto_rows": null,
            "grid_column": null,
            "grid_gap": null,
            "grid_row": null,
            "grid_template_areas": null,
            "grid_template_columns": null,
            "grid_template_rows": null,
            "height": null,
            "justify_content": null,
            "justify_items": null,
            "left": null,
            "margin": null,
            "max_height": null,
            "max_width": null,
            "min_height": null,
            "min_width": null,
            "object_fit": null,
            "object_position": null,
            "order": null,
            "overflow": null,
            "overflow_x": null,
            "overflow_y": null,
            "padding": null,
            "right": null,
            "top": null,
            "visibility": null,
            "width": null
          }
        },
        "3ca2d26d229e4c8a939532bb3a327636": {
          "model_module": "@jupyter-widgets/base",
          "model_module_version": "1.2.0",
          "model_name": "LayoutModel",
          "state": {
            "_model_module": "@jupyter-widgets/base",
            "_model_module_version": "1.2.0",
            "_model_name": "LayoutModel",
            "_view_count": null,
            "_view_module": "@jupyter-widgets/base",
            "_view_module_version": "1.2.0",
            "_view_name": "LayoutView",
            "align_content": null,
            "align_items": null,
            "align_self": null,
            "border": null,
            "bottom": null,
            "display": null,
            "flex": "2",
            "flex_flow": null,
            "grid_area": null,
            "grid_auto_columns": null,
            "grid_auto_flow": null,
            "grid_auto_rows": null,
            "grid_column": null,
            "grid_gap": null,
            "grid_row": null,
            "grid_template_areas": null,
            "grid_template_columns": null,
            "grid_template_rows": null,
            "height": null,
            "justify_content": null,
            "justify_items": null,
            "left": null,
            "margin": null,
            "max_height": null,
            "max_width": null,
            "min_height": null,
            "min_width": null,
            "object_fit": null,
            "object_position": null,
            "order": null,
            "overflow": null,
            "overflow_x": null,
            "overflow_y": null,
            "padding": null,
            "right": null,
            "top": null,
            "visibility": null,
            "width": null
          }
        },
        "3f5c36e096254af384b6693546e68312": {
          "model_module": "@jupyter-widgets/base",
          "model_module_version": "1.2.0",
          "model_name": "LayoutModel",
          "state": {
            "_model_module": "@jupyter-widgets/base",
            "_model_module_version": "1.2.0",
            "_model_name": "LayoutModel",
            "_view_count": null,
            "_view_module": "@jupyter-widgets/base",
            "_view_module_version": "1.2.0",
            "_view_name": "LayoutView",
            "align_content": null,
            "align_items": null,
            "align_self": null,
            "border": null,
            "bottom": null,
            "display": null,
            "flex": null,
            "flex_flow": null,
            "grid_area": null,
            "grid_auto_columns": null,
            "grid_auto_flow": null,
            "grid_auto_rows": null,
            "grid_column": null,
            "grid_gap": null,
            "grid_row": null,
            "grid_template_areas": null,
            "grid_template_columns": null,
            "grid_template_rows": null,
            "height": null,
            "justify_content": null,
            "justify_items": null,
            "left": null,
            "margin": null,
            "max_height": null,
            "max_width": null,
            "min_height": null,
            "min_width": null,
            "object_fit": null,
            "object_position": null,
            "order": null,
            "overflow": null,
            "overflow_x": null,
            "overflow_y": null,
            "padding": null,
            "right": null,
            "top": null,
            "visibility": null,
            "width": null
          }
        },
        "42d74dc03d6e4abcbe6016a7e780a0fa": {
          "model_module": "@jupyter-widgets/controls",
          "model_module_version": "1.5.0",
          "model_name": "HBoxModel",
          "state": {
            "_dom_classes": [],
            "_model_module": "@jupyter-widgets/controls",
            "_model_module_version": "1.5.0",
            "_model_name": "HBoxModel",
            "_view_count": null,
            "_view_module": "@jupyter-widgets/controls",
            "_view_module_version": "1.5.0",
            "_view_name": "HBoxView",
            "box_style": "",
            "children": [
              "IPY_MODEL_0022a35d0f604f54a4134bbfe9a3a149",
              "IPY_MODEL_019a1a034f754bdb862da214251bc16a",
              "IPY_MODEL_1b6512b7708a4a25a5db97d2da37688a"
            ],
            "layout": "IPY_MODEL_76cabb64e3d44aa59fff5af50991fa46"
          }
        },
        "43e6d89bbee646f8913e5cd8613f72ea": {
          "model_module": "@jupyter-widgets/base",
          "model_module_version": "1.2.0",
          "model_name": "LayoutModel",
          "state": {
            "_model_module": "@jupyter-widgets/base",
            "_model_module_version": "1.2.0",
            "_model_name": "LayoutModel",
            "_view_count": null,
            "_view_module": "@jupyter-widgets/base",
            "_view_module_version": "1.2.0",
            "_view_name": "LayoutView",
            "align_content": null,
            "align_items": null,
            "align_self": null,
            "border": null,
            "bottom": null,
            "display": null,
            "flex": null,
            "flex_flow": null,
            "grid_area": null,
            "grid_auto_columns": null,
            "grid_auto_flow": null,
            "grid_auto_rows": null,
            "grid_column": null,
            "grid_gap": null,
            "grid_row": null,
            "grid_template_areas": null,
            "grid_template_columns": null,
            "grid_template_rows": null,
            "height": null,
            "justify_content": null,
            "justify_items": null,
            "left": null,
            "margin": null,
            "max_height": null,
            "max_width": null,
            "min_height": null,
            "min_width": null,
            "object_fit": null,
            "object_position": null,
            "order": null,
            "overflow": null,
            "overflow_x": null,
            "overflow_y": null,
            "padding": null,
            "right": null,
            "top": null,
            "visibility": null,
            "width": null
          }
        },
        "4816c5a9133b4be780a7a007c188ef42": {
          "model_module": "@jupyter-widgets/controls",
          "model_module_version": "1.5.0",
          "model_name": "HTMLModel",
          "state": {
            "_dom_classes": [],
            "_model_module": "@jupyter-widgets/controls",
            "_model_module_version": "1.5.0",
            "_model_name": "HTMLModel",
            "_view_count": null,
            "_view_module": "@jupyter-widgets/controls",
            "_view_module_version": "1.5.0",
            "_view_name": "HTMLView",
            "description": "",
            "description_tooltip": null,
            "layout": "IPY_MODEL_43e6d89bbee646f8913e5cd8613f72ea",
            "placeholder": "​",
            "style": "IPY_MODEL_78c85237d0d0458bb1aa4a3c48e57437",
            "value": "Epoch 5: 100%"
          }
        },
        "49467ef6a79b4e59acfeda45d352368b": {
          "model_module": "@jupyter-widgets/controls",
          "model_module_version": "1.5.0",
          "model_name": "HTMLModel",
          "state": {
            "_dom_classes": [],
            "_model_module": "@jupyter-widgets/controls",
            "_model_module_version": "1.5.0",
            "_model_name": "HTMLModel",
            "_view_count": null,
            "_view_module": "@jupyter-widgets/controls",
            "_view_module_version": "1.5.0",
            "_view_name": "HTMLView",
            "description": "",
            "description_tooltip": null,
            "layout": "IPY_MODEL_2cbaa55d8bbc447491bc18f5a2cc397f",
            "placeholder": "​",
            "style": "IPY_MODEL_a3337e316da442e695b4ec7f42cd30f4",
            "value": "Validation DataLoader 0: 100%"
          }
        },
        "4a68926e3b9f45619de8b3ce117f3e6f": {
          "model_module": "@jupyter-widgets/controls",
          "model_module_version": "1.5.0",
          "model_name": "DescriptionStyleModel",
          "state": {
            "_model_module": "@jupyter-widgets/controls",
            "_model_module_version": "1.5.0",
            "_model_name": "DescriptionStyleModel",
            "_view_count": null,
            "_view_module": "@jupyter-widgets/base",
            "_view_module_version": "1.2.0",
            "_view_name": "StyleView",
            "description_width": ""
          }
        },
        "4cd2933da4bc426a9331929a75d59563": {
          "model_module": "@jupyter-widgets/controls",
          "model_module_version": "1.5.0",
          "model_name": "FloatProgressModel",
          "state": {
            "_dom_classes": [],
            "_model_module": "@jupyter-widgets/controls",
            "_model_module_version": "1.5.0",
            "_model_name": "FloatProgressModel",
            "_view_count": null,
            "_view_module": "@jupyter-widgets/controls",
            "_view_module_version": "1.5.0",
            "_view_name": "ProgressView",
            "bar_style": "",
            "description": "",
            "description_tooltip": null,
            "layout": "IPY_MODEL_3abc2984ba4c4c29befd9c1e9f06bd87",
            "max": 20,
            "min": 0,
            "orientation": "horizontal",
            "style": "IPY_MODEL_c5839b7ae33c4a8888267fc8756454f5",
            "value": 20
          }
        },
        "4e502ef14fee41b898b2fd20a5e026a2": {
          "model_module": "@jupyter-widgets/controls",
          "model_module_version": "1.5.0",
          "model_name": "DescriptionStyleModel",
          "state": {
            "_model_module": "@jupyter-widgets/controls",
            "_model_module_version": "1.5.0",
            "_model_name": "DescriptionStyleModel",
            "_view_count": null,
            "_view_module": "@jupyter-widgets/base",
            "_view_module_version": "1.2.0",
            "_view_name": "StyleView",
            "description_width": ""
          }
        },
        "5187e8c2c5ce437fb60be1b3fd86cdf3": {
          "model_module": "@jupyter-widgets/base",
          "model_module_version": "1.2.0",
          "model_name": "LayoutModel",
          "state": {
            "_model_module": "@jupyter-widgets/base",
            "_model_module_version": "1.2.0",
            "_model_name": "LayoutModel",
            "_view_count": null,
            "_view_module": "@jupyter-widgets/base",
            "_view_module_version": "1.2.0",
            "_view_name": "LayoutView",
            "align_content": null,
            "align_items": null,
            "align_self": null,
            "border": null,
            "bottom": null,
            "display": null,
            "flex": "2",
            "flex_flow": null,
            "grid_area": null,
            "grid_auto_columns": null,
            "grid_auto_flow": null,
            "grid_auto_rows": null,
            "grid_column": null,
            "grid_gap": null,
            "grid_row": null,
            "grid_template_areas": null,
            "grid_template_columns": null,
            "grid_template_rows": null,
            "height": null,
            "justify_content": null,
            "justify_items": null,
            "left": null,
            "margin": null,
            "max_height": null,
            "max_width": null,
            "min_height": null,
            "min_width": null,
            "object_fit": null,
            "object_position": null,
            "order": null,
            "overflow": null,
            "overflow_x": null,
            "overflow_y": null,
            "padding": null,
            "right": null,
            "top": null,
            "visibility": null,
            "width": null
          }
        },
        "52e3703e2d5a4fcdaffc0c3bc596a299": {
          "model_module": "@jupyter-widgets/controls",
          "model_module_version": "1.5.0",
          "model_name": "FloatProgressModel",
          "state": {
            "_dom_classes": [],
            "_model_module": "@jupyter-widgets/controls",
            "_model_module_version": "1.5.0",
            "_model_name": "FloatProgressModel",
            "_view_count": null,
            "_view_module": "@jupyter-widgets/controls",
            "_view_module_version": "1.5.0",
            "_view_name": "ProgressView",
            "bar_style": "",
            "description": "",
            "description_tooltip": null,
            "layout": "IPY_MODEL_88325e7600e640239422b384a29ee474",
            "max": 20,
            "min": 0,
            "orientation": "horizontal",
            "style": "IPY_MODEL_bd365a10696b4e5a9aab5a0e19595eb9",
            "value": 20
          }
        },
        "53f6aa91872f41d4bf098b8ca9442dab": {
          "model_module": "@jupyter-widgets/controls",
          "model_module_version": "1.5.0",
          "model_name": "HTMLModel",
          "state": {
            "_dom_classes": [],
            "_model_module": "@jupyter-widgets/controls",
            "_model_module_version": "1.5.0",
            "_model_name": "HTMLModel",
            "_view_count": null,
            "_view_module": "@jupyter-widgets/controls",
            "_view_module_version": "1.5.0",
            "_view_name": "HTMLView",
            "description": "",
            "description_tooltip": null,
            "layout": "IPY_MODEL_5f4ab61725f340d7bc7298925b11132c",
            "placeholder": "​",
            "style": "IPY_MODEL_8839384700a546d48ecf8214f09962a1",
            "value": "Sanity Checking DataLoader 0: 100%"
          }
        },
        "5d5ef75802a74b7a8221b00bbaeb9bed": {
          "model_module": "@jupyter-widgets/controls",
          "model_module_version": "1.5.0",
          "model_name": "DescriptionStyleModel",
          "state": {
            "_model_module": "@jupyter-widgets/controls",
            "_model_module_version": "1.5.0",
            "_model_name": "DescriptionStyleModel",
            "_view_count": null,
            "_view_module": "@jupyter-widgets/base",
            "_view_module_version": "1.2.0",
            "_view_name": "StyleView",
            "description_width": ""
          }
        },
        "5f4ab61725f340d7bc7298925b11132c": {
          "model_module": "@jupyter-widgets/base",
          "model_module_version": "1.2.0",
          "model_name": "LayoutModel",
          "state": {
            "_model_module": "@jupyter-widgets/base",
            "_model_module_version": "1.2.0",
            "_model_name": "LayoutModel",
            "_view_count": null,
            "_view_module": "@jupyter-widgets/base",
            "_view_module_version": "1.2.0",
            "_view_name": "LayoutView",
            "align_content": null,
            "align_items": null,
            "align_self": null,
            "border": null,
            "bottom": null,
            "display": null,
            "flex": null,
            "flex_flow": null,
            "grid_area": null,
            "grid_auto_columns": null,
            "grid_auto_flow": null,
            "grid_auto_rows": null,
            "grid_column": null,
            "grid_gap": null,
            "grid_row": null,
            "grid_template_areas": null,
            "grid_template_columns": null,
            "grid_template_rows": null,
            "height": null,
            "justify_content": null,
            "justify_items": null,
            "left": null,
            "margin": null,
            "max_height": null,
            "max_width": null,
            "min_height": null,
            "min_width": null,
            "object_fit": null,
            "object_position": null,
            "order": null,
            "overflow": null,
            "overflow_x": null,
            "overflow_y": null,
            "padding": null,
            "right": null,
            "top": null,
            "visibility": null,
            "width": null
          }
        },
        "68964ac2de624c0182beeef55a043d67": {
          "model_module": "@jupyter-widgets/controls",
          "model_module_version": "1.5.0",
          "model_name": "DescriptionStyleModel",
          "state": {
            "_model_module": "@jupyter-widgets/controls",
            "_model_module_version": "1.5.0",
            "_model_name": "DescriptionStyleModel",
            "_view_count": null,
            "_view_module": "@jupyter-widgets/base",
            "_view_module_version": "1.2.0",
            "_view_name": "StyleView",
            "description_width": ""
          }
        },
        "69498482b5f04b199c9e802a91d8bbf9": {
          "model_module": "@jupyter-widgets/base",
          "model_module_version": "1.2.0",
          "model_name": "LayoutModel",
          "state": {
            "_model_module": "@jupyter-widgets/base",
            "_model_module_version": "1.2.0",
            "_model_name": "LayoutModel",
            "_view_count": null,
            "_view_module": "@jupyter-widgets/base",
            "_view_module_version": "1.2.0",
            "_view_name": "LayoutView",
            "align_content": null,
            "align_items": null,
            "align_self": null,
            "border": null,
            "bottom": null,
            "display": null,
            "flex": null,
            "flex_flow": null,
            "grid_area": null,
            "grid_auto_columns": null,
            "grid_auto_flow": null,
            "grid_auto_rows": null,
            "grid_column": null,
            "grid_gap": null,
            "grid_row": null,
            "grid_template_areas": null,
            "grid_template_columns": null,
            "grid_template_rows": null,
            "height": null,
            "justify_content": null,
            "justify_items": null,
            "left": null,
            "margin": null,
            "max_height": null,
            "max_width": null,
            "min_height": null,
            "min_width": null,
            "object_fit": null,
            "object_position": null,
            "order": null,
            "overflow": null,
            "overflow_x": null,
            "overflow_y": null,
            "padding": null,
            "right": null,
            "top": null,
            "visibility": null,
            "width": null
          }
        },
        "6a96c4850c5f4317b215bfa391821b59": {
          "model_module": "@jupyter-widgets/base",
          "model_module_version": "1.2.0",
          "model_name": "LayoutModel",
          "state": {
            "_model_module": "@jupyter-widgets/base",
            "_model_module_version": "1.2.0",
            "_model_name": "LayoutModel",
            "_view_count": null,
            "_view_module": "@jupyter-widgets/base",
            "_view_module_version": "1.2.0",
            "_view_name": "LayoutView",
            "align_content": null,
            "align_items": null,
            "align_self": null,
            "border": null,
            "bottom": null,
            "display": null,
            "flex": "2",
            "flex_flow": null,
            "grid_area": null,
            "grid_auto_columns": null,
            "grid_auto_flow": null,
            "grid_auto_rows": null,
            "grid_column": null,
            "grid_gap": null,
            "grid_row": null,
            "grid_template_areas": null,
            "grid_template_columns": null,
            "grid_template_rows": null,
            "height": null,
            "justify_content": null,
            "justify_items": null,
            "left": null,
            "margin": null,
            "max_height": null,
            "max_width": null,
            "min_height": null,
            "min_width": null,
            "object_fit": null,
            "object_position": null,
            "order": null,
            "overflow": null,
            "overflow_x": null,
            "overflow_y": null,
            "padding": null,
            "right": null,
            "top": null,
            "visibility": null,
            "width": null
          }
        },
        "6abecdb6696a455a80f6d827e9e4e325": {
          "model_module": "@jupyter-widgets/controls",
          "model_module_version": "1.5.0",
          "model_name": "ProgressStyleModel",
          "state": {
            "_model_module": "@jupyter-widgets/controls",
            "_model_module_version": "1.5.0",
            "_model_name": "ProgressStyleModel",
            "_view_count": null,
            "_view_module": "@jupyter-widgets/base",
            "_view_module_version": "1.2.0",
            "_view_name": "StyleView",
            "bar_color": null,
            "description_width": ""
          }
        },
        "733e13932aa143d2a55d188d20e9fa9b": {
          "model_module": "@jupyter-widgets/controls",
          "model_module_version": "1.5.0",
          "model_name": "HBoxModel",
          "state": {
            "_dom_classes": [],
            "_model_module": "@jupyter-widgets/controls",
            "_model_module_version": "1.5.0",
            "_model_name": "HBoxModel",
            "_view_count": null,
            "_view_module": "@jupyter-widgets/controls",
            "_view_module_version": "1.5.0",
            "_view_name": "HBoxView",
            "box_style": "",
            "children": [
              "IPY_MODEL_8e0ee9bef8484b138c280ff2df7b7db8",
              "IPY_MODEL_d1642a0863c547fb9d4cb17745b4a7df",
              "IPY_MODEL_aa78b200234b45068428fef49f2cb057"
            ],
            "layout": "IPY_MODEL_0de4ebe0fece4cadaa4937c052f06c2c"
          }
        },
        "742f53fc471241fb992636826aea3997": {
          "model_module": "@jupyter-widgets/controls",
          "model_module_version": "1.5.0",
          "model_name": "HTMLModel",
          "state": {
            "_dom_classes": [],
            "_model_module": "@jupyter-widgets/controls",
            "_model_module_version": "1.5.0",
            "_model_name": "HTMLModel",
            "_view_count": null,
            "_view_module": "@jupyter-widgets/controls",
            "_view_module_version": "1.5.0",
            "_view_name": "HTMLView",
            "description": "",
            "description_tooltip": null,
            "layout": "IPY_MODEL_0551e63b133a498f87fb461f9a4e00f4",
            "placeholder": "​",
            "style": "IPY_MODEL_1224bdb4afa34ee8ba31ac0250206962",
            "value": "Validation DataLoader 0: 100%"
          }
        },
        "764668c39b9047d4af05e9864705903c": {
          "model_module": "@jupyter-widgets/base",
          "model_module_version": "1.2.0",
          "model_name": "LayoutModel",
          "state": {
            "_model_module": "@jupyter-widgets/base",
            "_model_module_version": "1.2.0",
            "_model_name": "LayoutModel",
            "_view_count": null,
            "_view_module": "@jupyter-widgets/base",
            "_view_module_version": "1.2.0",
            "_view_name": "LayoutView",
            "align_content": null,
            "align_items": null,
            "align_self": null,
            "border": null,
            "bottom": null,
            "display": "inline-flex",
            "flex": null,
            "flex_flow": "row wrap",
            "grid_area": null,
            "grid_auto_columns": null,
            "grid_auto_flow": null,
            "grid_auto_rows": null,
            "grid_column": null,
            "grid_gap": null,
            "grid_row": null,
            "grid_template_areas": null,
            "grid_template_columns": null,
            "grid_template_rows": null,
            "height": null,
            "justify_content": null,
            "justify_items": null,
            "left": null,
            "margin": null,
            "max_height": null,
            "max_width": null,
            "min_height": null,
            "min_width": null,
            "object_fit": null,
            "object_position": null,
            "order": null,
            "overflow": null,
            "overflow_x": null,
            "overflow_y": null,
            "padding": null,
            "right": null,
            "top": null,
            "visibility": "hidden",
            "width": "100%"
          }
        },
        "76cabb64e3d44aa59fff5af50991fa46": {
          "model_module": "@jupyter-widgets/base",
          "model_module_version": "1.2.0",
          "model_name": "LayoutModel",
          "state": {
            "_model_module": "@jupyter-widgets/base",
            "_model_module_version": "1.2.0",
            "_model_name": "LayoutModel",
            "_view_count": null,
            "_view_module": "@jupyter-widgets/base",
            "_view_module_version": "1.2.0",
            "_view_name": "LayoutView",
            "align_content": null,
            "align_items": null,
            "align_self": null,
            "border": null,
            "bottom": null,
            "display": "inline-flex",
            "flex": null,
            "flex_flow": "row wrap",
            "grid_area": null,
            "grid_auto_columns": null,
            "grid_auto_flow": null,
            "grid_auto_rows": null,
            "grid_column": null,
            "grid_gap": null,
            "grid_row": null,
            "grid_template_areas": null,
            "grid_template_columns": null,
            "grid_template_rows": null,
            "height": null,
            "justify_content": null,
            "justify_items": null,
            "left": null,
            "margin": null,
            "max_height": null,
            "max_width": null,
            "min_height": null,
            "min_width": null,
            "object_fit": null,
            "object_position": null,
            "order": null,
            "overflow": null,
            "overflow_x": null,
            "overflow_y": null,
            "padding": null,
            "right": null,
            "top": null,
            "visibility": "hidden",
            "width": "100%"
          }
        },
        "77486ff39ed44d3c82d1a3b2a0ff3b7b": {
          "model_module": "@jupyter-widgets/controls",
          "model_module_version": "1.5.0",
          "model_name": "FloatProgressModel",
          "state": {
            "_dom_classes": [],
            "_model_module": "@jupyter-widgets/controls",
            "_model_module_version": "1.5.0",
            "_model_name": "FloatProgressModel",
            "_view_count": null,
            "_view_module": "@jupyter-widgets/controls",
            "_view_module_version": "1.5.0",
            "_view_name": "ProgressView",
            "bar_style": "",
            "description": "",
            "description_tooltip": null,
            "layout": "IPY_MODEL_2ed68535502442808de8631261c946c9",
            "max": 20,
            "min": 0,
            "orientation": "horizontal",
            "style": "IPY_MODEL_a535dac75cae4e7d91d2342059fbf210",
            "value": 20
          }
        },
        "78c85237d0d0458bb1aa4a3c48e57437": {
          "model_module": "@jupyter-widgets/controls",
          "model_module_version": "1.5.0",
          "model_name": "DescriptionStyleModel",
          "state": {
            "_model_module": "@jupyter-widgets/controls",
            "_model_module_version": "1.5.0",
            "_model_name": "DescriptionStyleModel",
            "_view_count": null,
            "_view_module": "@jupyter-widgets/base",
            "_view_module_version": "1.2.0",
            "_view_name": "StyleView",
            "description_width": ""
          }
        },
        "7c88106db7b044539ba392953d58ab1d": {
          "model_module": "@jupyter-widgets/controls",
          "model_module_version": "1.5.0",
          "model_name": "DescriptionStyleModel",
          "state": {
            "_model_module": "@jupyter-widgets/controls",
            "_model_module_version": "1.5.0",
            "_model_name": "DescriptionStyleModel",
            "_view_count": null,
            "_view_module": "@jupyter-widgets/base",
            "_view_module_version": "1.2.0",
            "_view_name": "StyleView",
            "description_width": ""
          }
        },
        "88325e7600e640239422b384a29ee474": {
          "model_module": "@jupyter-widgets/base",
          "model_module_version": "1.2.0",
          "model_name": "LayoutModel",
          "state": {
            "_model_module": "@jupyter-widgets/base",
            "_model_module_version": "1.2.0",
            "_model_name": "LayoutModel",
            "_view_count": null,
            "_view_module": "@jupyter-widgets/base",
            "_view_module_version": "1.2.0",
            "_view_name": "LayoutView",
            "align_content": null,
            "align_items": null,
            "align_self": null,
            "border": null,
            "bottom": null,
            "display": null,
            "flex": "2",
            "flex_flow": null,
            "grid_area": null,
            "grid_auto_columns": null,
            "grid_auto_flow": null,
            "grid_auto_rows": null,
            "grid_column": null,
            "grid_gap": null,
            "grid_row": null,
            "grid_template_areas": null,
            "grid_template_columns": null,
            "grid_template_rows": null,
            "height": null,
            "justify_content": null,
            "justify_items": null,
            "left": null,
            "margin": null,
            "max_height": null,
            "max_width": null,
            "min_height": null,
            "min_width": null,
            "object_fit": null,
            "object_position": null,
            "order": null,
            "overflow": null,
            "overflow_x": null,
            "overflow_y": null,
            "padding": null,
            "right": null,
            "top": null,
            "visibility": null,
            "width": null
          }
        },
        "8839384700a546d48ecf8214f09962a1": {
          "model_module": "@jupyter-widgets/controls",
          "model_module_version": "1.5.0",
          "model_name": "DescriptionStyleModel",
          "state": {
            "_model_module": "@jupyter-widgets/controls",
            "_model_module_version": "1.5.0",
            "_model_name": "DescriptionStyleModel",
            "_view_count": null,
            "_view_module": "@jupyter-widgets/base",
            "_view_module_version": "1.2.0",
            "_view_name": "StyleView",
            "description_width": ""
          }
        },
        "89676d62e1e64feaa3c4668566e2cf18": {
          "model_module": "@jupyter-widgets/controls",
          "model_module_version": "1.5.0",
          "model_name": "HTMLModel",
          "state": {
            "_dom_classes": [],
            "_model_module": "@jupyter-widgets/controls",
            "_model_module_version": "1.5.0",
            "_model_name": "HTMLModel",
            "_view_count": null,
            "_view_module": "@jupyter-widgets/controls",
            "_view_module_version": "1.5.0",
            "_view_name": "HTMLView",
            "description": "",
            "description_tooltip": null,
            "layout": "IPY_MODEL_b56d7df5394242afae031f810884175b",
            "placeholder": "​",
            "style": "IPY_MODEL_fc6ee4711efc4bc184d0ed6f5bdae24c",
            "value": "Validation DataLoader 0: 100%"
          }
        },
        "8a7d923636cb4d35a04ea9484db3079e": {
          "model_module": "@jupyter-widgets/base",
          "model_module_version": "1.2.0",
          "model_name": "LayoutModel",
          "state": {
            "_model_module": "@jupyter-widgets/base",
            "_model_module_version": "1.2.0",
            "_model_name": "LayoutModel",
            "_view_count": null,
            "_view_module": "@jupyter-widgets/base",
            "_view_module_version": "1.2.0",
            "_view_name": "LayoutView",
            "align_content": null,
            "align_items": null,
            "align_self": null,
            "border": null,
            "bottom": null,
            "display": null,
            "flex": null,
            "flex_flow": null,
            "grid_area": null,
            "grid_auto_columns": null,
            "grid_auto_flow": null,
            "grid_auto_rows": null,
            "grid_column": null,
            "grid_gap": null,
            "grid_row": null,
            "grid_template_areas": null,
            "grid_template_columns": null,
            "grid_template_rows": null,
            "height": null,
            "justify_content": null,
            "justify_items": null,
            "left": null,
            "margin": null,
            "max_height": null,
            "max_width": null,
            "min_height": null,
            "min_width": null,
            "object_fit": null,
            "object_position": null,
            "order": null,
            "overflow": null,
            "overflow_x": null,
            "overflow_y": null,
            "padding": null,
            "right": null,
            "top": null,
            "visibility": null,
            "width": null
          }
        },
        "8d7697c47ece4f359e464ef67cdc473a": {
          "model_module": "@jupyter-widgets/controls",
          "model_module_version": "1.5.0",
          "model_name": "HBoxModel",
          "state": {
            "_dom_classes": [],
            "_model_module": "@jupyter-widgets/controls",
            "_model_module_version": "1.5.0",
            "_model_name": "HBoxModel",
            "_view_count": null,
            "_view_module": "@jupyter-widgets/controls",
            "_view_module_version": "1.5.0",
            "_view_name": "HBoxView",
            "box_style": "",
            "children": [
              "IPY_MODEL_53f6aa91872f41d4bf098b8ca9442dab",
              "IPY_MODEL_cebd2a5e64714e1bb81a59b9f34bf33e",
              "IPY_MODEL_a18413c102f04f4f811ccad34040933e"
            ],
            "layout": "IPY_MODEL_28f9c8827253475baa5add06fa50a319"
          }
        },
        "8e0ee9bef8484b138c280ff2df7b7db8": {
          "model_module": "@jupyter-widgets/controls",
          "model_module_version": "1.5.0",
          "model_name": "HTMLModel",
          "state": {
            "_dom_classes": [],
            "_model_module": "@jupyter-widgets/controls",
            "_model_module_version": "1.5.0",
            "_model_name": "HTMLModel",
            "_view_count": null,
            "_view_module": "@jupyter-widgets/controls",
            "_view_module_version": "1.5.0",
            "_view_name": "HTMLView",
            "description": "",
            "description_tooltip": null,
            "layout": "IPY_MODEL_21f9d8a8b8e740fbb295a55015ca345b",
            "placeholder": "​",
            "style": "IPY_MODEL_045348cb5c9c4892909ce6d94c5cfea5",
            "value": "Validation DataLoader 0: 100%"
          }
        },
        "8e661cbd137346bc9a989fb2c5b11457": {
          "model_module": "@jupyter-widgets/base",
          "model_module_version": "1.2.0",
          "model_name": "LayoutModel",
          "state": {
            "_model_module": "@jupyter-widgets/base",
            "_model_module_version": "1.2.0",
            "_model_name": "LayoutModel",
            "_view_count": null,
            "_view_module": "@jupyter-widgets/base",
            "_view_module_version": "1.2.0",
            "_view_name": "LayoutView",
            "align_content": null,
            "align_items": null,
            "align_self": null,
            "border": null,
            "bottom": null,
            "display": null,
            "flex": null,
            "flex_flow": null,
            "grid_area": null,
            "grid_auto_columns": null,
            "grid_auto_flow": null,
            "grid_auto_rows": null,
            "grid_column": null,
            "grid_gap": null,
            "grid_row": null,
            "grid_template_areas": null,
            "grid_template_columns": null,
            "grid_template_rows": null,
            "height": null,
            "justify_content": null,
            "justify_items": null,
            "left": null,
            "margin": null,
            "max_height": null,
            "max_width": null,
            "min_height": null,
            "min_width": null,
            "object_fit": null,
            "object_position": null,
            "order": null,
            "overflow": null,
            "overflow_x": null,
            "overflow_y": null,
            "padding": null,
            "right": null,
            "top": null,
            "visibility": null,
            "width": null
          }
        },
        "8e987cfc5524474490e96398dab1acbc": {
          "model_module": "@jupyter-widgets/controls",
          "model_module_version": "1.5.0",
          "model_name": "HTMLModel",
          "state": {
            "_dom_classes": [],
            "_model_module": "@jupyter-widgets/controls",
            "_model_module_version": "1.5.0",
            "_model_name": "HTMLModel",
            "_view_count": null,
            "_view_module": "@jupyter-widgets/controls",
            "_view_module_version": "1.5.0",
            "_view_name": "HTMLView",
            "description": "",
            "description_tooltip": null,
            "layout": "IPY_MODEL_014045816d994e738fbaa60a9bc96685",
            "placeholder": "​",
            "style": "IPY_MODEL_5d5ef75802a74b7a8221b00bbaeb9bed",
            "value": " 20/20 [00:00&lt;00:00, 124.62it/s]"
          }
        },
        "9310e3e7a4f54a048660365a4fede357": {
          "model_module": "@jupyter-widgets/controls",
          "model_module_version": "1.5.0",
          "model_name": "HTMLModel",
          "state": {
            "_dom_classes": [],
            "_model_module": "@jupyter-widgets/controls",
            "_model_module_version": "1.5.0",
            "_model_name": "HTMLModel",
            "_view_count": null,
            "_view_module": "@jupyter-widgets/controls",
            "_view_module_version": "1.5.0",
            "_view_name": "HTMLView",
            "description": "",
            "description_tooltip": null,
            "layout": "IPY_MODEL_11c868e66b6f487daf286a5fba23bfc1",
            "placeholder": "​",
            "style": "IPY_MODEL_4a68926e3b9f45619de8b3ce117f3e6f",
            "value": " 20/20 [00:00&lt;00:00, 127.13it/s]"
          }
        },
        "95f3f08da2a64550a1917e30130fa4d9": {
          "model_module": "@jupyter-widgets/base",
          "model_module_version": "1.2.0",
          "model_name": "LayoutModel",
          "state": {
            "_model_module": "@jupyter-widgets/base",
            "_model_module_version": "1.2.0",
            "_model_name": "LayoutModel",
            "_view_count": null,
            "_view_module": "@jupyter-widgets/base",
            "_view_module_version": "1.2.0",
            "_view_name": "LayoutView",
            "align_content": null,
            "align_items": null,
            "align_self": null,
            "border": null,
            "bottom": null,
            "display": null,
            "flex": "2",
            "flex_flow": null,
            "grid_area": null,
            "grid_auto_columns": null,
            "grid_auto_flow": null,
            "grid_auto_rows": null,
            "grid_column": null,
            "grid_gap": null,
            "grid_row": null,
            "grid_template_areas": null,
            "grid_template_columns": null,
            "grid_template_rows": null,
            "height": null,
            "justify_content": null,
            "justify_items": null,
            "left": null,
            "margin": null,
            "max_height": null,
            "max_width": null,
            "min_height": null,
            "min_width": null,
            "object_fit": null,
            "object_position": null,
            "order": null,
            "overflow": null,
            "overflow_x": null,
            "overflow_y": null,
            "padding": null,
            "right": null,
            "top": null,
            "visibility": null,
            "width": null
          }
        },
        "9b9df91698b048b88f7fb00fad7a4e73": {
          "model_module": "@jupyter-widgets/controls",
          "model_module_version": "1.5.0",
          "model_name": "HBoxModel",
          "state": {
            "_dom_classes": [],
            "_model_module": "@jupyter-widgets/controls",
            "_model_module_version": "1.5.0",
            "_model_name": "HBoxModel",
            "_view_count": null,
            "_view_module": "@jupyter-widgets/controls",
            "_view_module_version": "1.5.0",
            "_view_name": "HBoxView",
            "box_style": "",
            "children": [
              "IPY_MODEL_4816c5a9133b4be780a7a007c188ef42",
              "IPY_MODEL_e5804d37cbda4fc087118a451c50a85a",
              "IPY_MODEL_a4e4784870434abd8d518bd56e2163b7"
            ],
            "layout": "IPY_MODEL_e300b26b818349888716313ca8534677"
          }
        },
        "9d4fc3b3826d435c9dced812b3a251da": {
          "model_module": "@jupyter-widgets/controls",
          "model_module_version": "1.5.0",
          "model_name": "ProgressStyleModel",
          "state": {
            "_model_module": "@jupyter-widgets/controls",
            "_model_module_version": "1.5.0",
            "_model_name": "ProgressStyleModel",
            "_view_count": null,
            "_view_module": "@jupyter-widgets/base",
            "_view_module_version": "1.2.0",
            "_view_name": "StyleView",
            "bar_color": null,
            "description_width": ""
          }
        },
        "a18413c102f04f4f811ccad34040933e": {
          "model_module": "@jupyter-widgets/controls",
          "model_module_version": "1.5.0",
          "model_name": "HTMLModel",
          "state": {
            "_dom_classes": [],
            "_model_module": "@jupyter-widgets/controls",
            "_model_module_version": "1.5.0",
            "_model_name": "HTMLModel",
            "_view_count": null,
            "_view_module": "@jupyter-widgets/controls",
            "_view_module_version": "1.5.0",
            "_view_name": "HTMLView",
            "description": "",
            "description_tooltip": null,
            "layout": "IPY_MODEL_3be0d48f9e424ad197f11a7178700e26",
            "placeholder": "​",
            "style": "IPY_MODEL_db8565c071cf4a52807c4e88b1bf388e",
            "value": " 2/2 [00:00&lt;00:00, 59.57it/s]"
          }
        },
        "a3337e316da442e695b4ec7f42cd30f4": {
          "model_module": "@jupyter-widgets/controls",
          "model_module_version": "1.5.0",
          "model_name": "DescriptionStyleModel",
          "state": {
            "_model_module": "@jupyter-widgets/controls",
            "_model_module_version": "1.5.0",
            "_model_name": "DescriptionStyleModel",
            "_view_count": null,
            "_view_module": "@jupyter-widgets/base",
            "_view_module_version": "1.2.0",
            "_view_name": "StyleView",
            "description_width": ""
          }
        },
        "a4e4784870434abd8d518bd56e2163b7": {
          "model_module": "@jupyter-widgets/controls",
          "model_module_version": "1.5.0",
          "model_name": "HTMLModel",
          "state": {
            "_dom_classes": [],
            "_model_module": "@jupyter-widgets/controls",
            "_model_module_version": "1.5.0",
            "_model_name": "HTMLModel",
            "_view_count": null,
            "_view_module": "@jupyter-widgets/controls",
            "_view_module_version": "1.5.0",
            "_view_name": "HTMLView",
            "description": "",
            "description_tooltip": null,
            "layout": "IPY_MODEL_bafb748328db4c6bb2122f61519bb9db",
            "placeholder": "​",
            "style": "IPY_MODEL_eea09af89f164c78a52f5d74f0448186",
            "value": " 78/78 [00:01&lt;00:00, 40.17it/s, v_num=0]"
          }
        },
        "a535dac75cae4e7d91d2342059fbf210": {
          "model_module": "@jupyter-widgets/controls",
          "model_module_version": "1.5.0",
          "model_name": "ProgressStyleModel",
          "state": {
            "_model_module": "@jupyter-widgets/controls",
            "_model_module_version": "1.5.0",
            "_model_name": "ProgressStyleModel",
            "_view_count": null,
            "_view_module": "@jupyter-widgets/base",
            "_view_module_version": "1.2.0",
            "_view_name": "StyleView",
            "bar_color": null,
            "description_width": ""
          }
        },
        "a9201108bf7845a480fb0257a61a5a59": {
          "model_module": "@jupyter-widgets/controls",
          "model_module_version": "1.5.0",
          "model_name": "HBoxModel",
          "state": {
            "_dom_classes": [],
            "_model_module": "@jupyter-widgets/controls",
            "_model_module_version": "1.5.0",
            "_model_name": "HBoxModel",
            "_view_count": null,
            "_view_module": "@jupyter-widgets/controls",
            "_view_module_version": "1.5.0",
            "_view_name": "HBoxView",
            "box_style": "",
            "children": [
              "IPY_MODEL_49467ef6a79b4e59acfeda45d352368b",
              "IPY_MODEL_52e3703e2d5a4fcdaffc0c3bc596a299",
              "IPY_MODEL_049e69abaeea4b8d97b48d0be294e8b3"
            ],
            "layout": "IPY_MODEL_ec580058878f4d35b923d447940313e2"
          }
        },
        "aa78b200234b45068428fef49f2cb057": {
          "model_module": "@jupyter-widgets/controls",
          "model_module_version": "1.5.0",
          "model_name": "HTMLModel",
          "state": {
            "_dom_classes": [],
            "_model_module": "@jupyter-widgets/controls",
            "_model_module_version": "1.5.0",
            "_model_name": "HTMLModel",
            "_view_count": null,
            "_view_module": "@jupyter-widgets/controls",
            "_view_module_version": "1.5.0",
            "_view_name": "HTMLView",
            "description": "",
            "description_tooltip": null,
            "layout": "IPY_MODEL_69498482b5f04b199c9e802a91d8bbf9",
            "placeholder": "​",
            "style": "IPY_MODEL_bebef1dd10b44e648e0af05af38a3d1d",
            "value": " 20/20 [00:00&lt;00:00, 118.33it/s]"
          }
        },
        "b56d7df5394242afae031f810884175b": {
          "model_module": "@jupyter-widgets/base",
          "model_module_version": "1.2.0",
          "model_name": "LayoutModel",
          "state": {
            "_model_module": "@jupyter-widgets/base",
            "_model_module_version": "1.2.0",
            "_model_name": "LayoutModel",
            "_view_count": null,
            "_view_module": "@jupyter-widgets/base",
            "_view_module_version": "1.2.0",
            "_view_name": "LayoutView",
            "align_content": null,
            "align_items": null,
            "align_self": null,
            "border": null,
            "bottom": null,
            "display": null,
            "flex": null,
            "flex_flow": null,
            "grid_area": null,
            "grid_auto_columns": null,
            "grid_auto_flow": null,
            "grid_auto_rows": null,
            "grid_column": null,
            "grid_gap": null,
            "grid_row": null,
            "grid_template_areas": null,
            "grid_template_columns": null,
            "grid_template_rows": null,
            "height": null,
            "justify_content": null,
            "justify_items": null,
            "left": null,
            "margin": null,
            "max_height": null,
            "max_width": null,
            "min_height": null,
            "min_width": null,
            "object_fit": null,
            "object_position": null,
            "order": null,
            "overflow": null,
            "overflow_x": null,
            "overflow_y": null,
            "padding": null,
            "right": null,
            "top": null,
            "visibility": null,
            "width": null
          }
        },
        "b5910e99c3eb419bb450efa02fdf85ef": {
          "model_module": "@jupyter-widgets/controls",
          "model_module_version": "1.5.0",
          "model_name": "ProgressStyleModel",
          "state": {
            "_model_module": "@jupyter-widgets/controls",
            "_model_module_version": "1.5.0",
            "_model_name": "ProgressStyleModel",
            "_view_count": null,
            "_view_module": "@jupyter-widgets/base",
            "_view_module_version": "1.2.0",
            "_view_name": "StyleView",
            "bar_color": null,
            "description_width": ""
          }
        },
        "b5fff3a4c6644918b2421b611ac5513a": {
          "model_module": "@jupyter-widgets/controls",
          "model_module_version": "1.5.0",
          "model_name": "DescriptionStyleModel",
          "state": {
            "_model_module": "@jupyter-widgets/controls",
            "_model_module_version": "1.5.0",
            "_model_name": "DescriptionStyleModel",
            "_view_count": null,
            "_view_module": "@jupyter-widgets/base",
            "_view_module_version": "1.2.0",
            "_view_name": "StyleView",
            "description_width": ""
          }
        },
        "bafb748328db4c6bb2122f61519bb9db": {
          "model_module": "@jupyter-widgets/base",
          "model_module_version": "1.2.0",
          "model_name": "LayoutModel",
          "state": {
            "_model_module": "@jupyter-widgets/base",
            "_model_module_version": "1.2.0",
            "_model_name": "LayoutModel",
            "_view_count": null,
            "_view_module": "@jupyter-widgets/base",
            "_view_module_version": "1.2.0",
            "_view_name": "LayoutView",
            "align_content": null,
            "align_items": null,
            "align_self": null,
            "border": null,
            "bottom": null,
            "display": null,
            "flex": null,
            "flex_flow": null,
            "grid_area": null,
            "grid_auto_columns": null,
            "grid_auto_flow": null,
            "grid_auto_rows": null,
            "grid_column": null,
            "grid_gap": null,
            "grid_row": null,
            "grid_template_areas": null,
            "grid_template_columns": null,
            "grid_template_rows": null,
            "height": null,
            "justify_content": null,
            "justify_items": null,
            "left": null,
            "margin": null,
            "max_height": null,
            "max_width": null,
            "min_height": null,
            "min_width": null,
            "object_fit": null,
            "object_position": null,
            "order": null,
            "overflow": null,
            "overflow_x": null,
            "overflow_y": null,
            "padding": null,
            "right": null,
            "top": null,
            "visibility": null,
            "width": null
          }
        },
        "bd365a10696b4e5a9aab5a0e19595eb9": {
          "model_module": "@jupyter-widgets/controls",
          "model_module_version": "1.5.0",
          "model_name": "ProgressStyleModel",
          "state": {
            "_model_module": "@jupyter-widgets/controls",
            "_model_module_version": "1.5.0",
            "_model_name": "ProgressStyleModel",
            "_view_count": null,
            "_view_module": "@jupyter-widgets/base",
            "_view_module_version": "1.2.0",
            "_view_name": "StyleView",
            "bar_color": null,
            "description_width": ""
          }
        },
        "bebef1dd10b44e648e0af05af38a3d1d": {
          "model_module": "@jupyter-widgets/controls",
          "model_module_version": "1.5.0",
          "model_name": "DescriptionStyleModel",
          "state": {
            "_model_module": "@jupyter-widgets/controls",
            "_model_module_version": "1.5.0",
            "_model_name": "DescriptionStyleModel",
            "_view_count": null,
            "_view_module": "@jupyter-widgets/base",
            "_view_module_version": "1.2.0",
            "_view_name": "StyleView",
            "description_width": ""
          }
        },
        "c5839b7ae33c4a8888267fc8756454f5": {
          "model_module": "@jupyter-widgets/controls",
          "model_module_version": "1.5.0",
          "model_name": "ProgressStyleModel",
          "state": {
            "_model_module": "@jupyter-widgets/controls",
            "_model_module_version": "1.5.0",
            "_model_name": "ProgressStyleModel",
            "_view_count": null,
            "_view_module": "@jupyter-widgets/base",
            "_view_module_version": "1.2.0",
            "_view_name": "StyleView",
            "bar_color": null,
            "description_width": ""
          }
        },
        "cebd2a5e64714e1bb81a59b9f34bf33e": {
          "model_module": "@jupyter-widgets/controls",
          "model_module_version": "1.5.0",
          "model_name": "FloatProgressModel",
          "state": {
            "_dom_classes": [],
            "_model_module": "@jupyter-widgets/controls",
            "_model_module_version": "1.5.0",
            "_model_name": "FloatProgressModel",
            "_view_count": null,
            "_view_module": "@jupyter-widgets/controls",
            "_view_module_version": "1.5.0",
            "_view_name": "ProgressView",
            "bar_style": "",
            "description": "",
            "description_tooltip": null,
            "layout": "IPY_MODEL_6a96c4850c5f4317b215bfa391821b59",
            "max": 2,
            "min": 0,
            "orientation": "horizontal",
            "style": "IPY_MODEL_1b945f9cc29d4d6bbf503e6413df91b1",
            "value": 2
          }
        },
        "d1642a0863c547fb9d4cb17745b4a7df": {
          "model_module": "@jupyter-widgets/controls",
          "model_module_version": "1.5.0",
          "model_name": "FloatProgressModel",
          "state": {
            "_dom_classes": [],
            "_model_module": "@jupyter-widgets/controls",
            "_model_module_version": "1.5.0",
            "_model_name": "FloatProgressModel",
            "_view_count": null,
            "_view_module": "@jupyter-widgets/controls",
            "_view_module_version": "1.5.0",
            "_view_name": "ProgressView",
            "bar_style": "",
            "description": "",
            "description_tooltip": null,
            "layout": "IPY_MODEL_95f3f08da2a64550a1917e30130fa4d9",
            "max": 20,
            "min": 0,
            "orientation": "horizontal",
            "style": "IPY_MODEL_6abecdb6696a455a80f6d827e9e4e325",
            "value": 20
          }
        },
        "d78f630935ac417fa7be5522bfbcd9ae": {
          "model_module": "@jupyter-widgets/controls",
          "model_module_version": "1.5.0",
          "model_name": "HTMLModel",
          "state": {
            "_dom_classes": [],
            "_model_module": "@jupyter-widgets/controls",
            "_model_module_version": "1.5.0",
            "_model_name": "HTMLModel",
            "_view_count": null,
            "_view_module": "@jupyter-widgets/controls",
            "_view_module_version": "1.5.0",
            "_view_name": "HTMLView",
            "description": "",
            "description_tooltip": null,
            "layout": "IPY_MODEL_8e661cbd137346bc9a989fb2c5b11457",
            "placeholder": "​",
            "style": "IPY_MODEL_7c88106db7b044539ba392953d58ab1d",
            "value": "Validation DataLoader 0: 100%"
          }
        },
        "d952d816f0984df1a85ba257d8352cae": {
          "model_module": "@jupyter-widgets/base",
          "model_module_version": "1.2.0",
          "model_name": "LayoutModel",
          "state": {
            "_model_module": "@jupyter-widgets/base",
            "_model_module_version": "1.2.0",
            "_model_name": "LayoutModel",
            "_view_count": null,
            "_view_module": "@jupyter-widgets/base",
            "_view_module_version": "1.2.0",
            "_view_name": "LayoutView",
            "align_content": null,
            "align_items": null,
            "align_self": null,
            "border": null,
            "bottom": null,
            "display": null,
            "flex": null,
            "flex_flow": null,
            "grid_area": null,
            "grid_auto_columns": null,
            "grid_auto_flow": null,
            "grid_auto_rows": null,
            "grid_column": null,
            "grid_gap": null,
            "grid_row": null,
            "grid_template_areas": null,
            "grid_template_columns": null,
            "grid_template_rows": null,
            "height": null,
            "justify_content": null,
            "justify_items": null,
            "left": null,
            "margin": null,
            "max_height": null,
            "max_width": null,
            "min_height": null,
            "min_width": null,
            "object_fit": null,
            "object_position": null,
            "order": null,
            "overflow": null,
            "overflow_x": null,
            "overflow_y": null,
            "padding": null,
            "right": null,
            "top": null,
            "visibility": null,
            "width": null
          }
        },
        "db8565c071cf4a52807c4e88b1bf388e": {
          "model_module": "@jupyter-widgets/controls",
          "model_module_version": "1.5.0",
          "model_name": "DescriptionStyleModel",
          "state": {
            "_model_module": "@jupyter-widgets/controls",
            "_model_module_version": "1.5.0",
            "_model_name": "DescriptionStyleModel",
            "_view_count": null,
            "_view_module": "@jupyter-widgets/base",
            "_view_module_version": "1.2.0",
            "_view_name": "StyleView",
            "description_width": ""
          }
        },
        "dba24db9e46848a7aee2ec71338bcd25": {
          "model_module": "@jupyter-widgets/controls",
          "model_module_version": "1.5.0",
          "model_name": "DescriptionStyleModel",
          "state": {
            "_model_module": "@jupyter-widgets/controls",
            "_model_module_version": "1.5.0",
            "_model_name": "DescriptionStyleModel",
            "_view_count": null,
            "_view_module": "@jupyter-widgets/base",
            "_view_module_version": "1.2.0",
            "_view_name": "StyleView",
            "description_width": ""
          }
        },
        "e25481cd966148ca8a04f3d542b1c68d": {
          "model_module": "@jupyter-widgets/base",
          "model_module_version": "1.2.0",
          "model_name": "LayoutModel",
          "state": {
            "_model_module": "@jupyter-widgets/base",
            "_model_module_version": "1.2.0",
            "_model_name": "LayoutModel",
            "_view_count": null,
            "_view_module": "@jupyter-widgets/base",
            "_view_module_version": "1.2.0",
            "_view_name": "LayoutView",
            "align_content": null,
            "align_items": null,
            "align_self": null,
            "border": null,
            "bottom": null,
            "display": "inline-flex",
            "flex": null,
            "flex_flow": "row wrap",
            "grid_area": null,
            "grid_auto_columns": null,
            "grid_auto_flow": null,
            "grid_auto_rows": null,
            "grid_column": null,
            "grid_gap": null,
            "grid_row": null,
            "grid_template_areas": null,
            "grid_template_columns": null,
            "grid_template_rows": null,
            "height": null,
            "justify_content": null,
            "justify_items": null,
            "left": null,
            "margin": null,
            "max_height": null,
            "max_width": null,
            "min_height": null,
            "min_width": null,
            "object_fit": null,
            "object_position": null,
            "order": null,
            "overflow": null,
            "overflow_x": null,
            "overflow_y": null,
            "padding": null,
            "right": null,
            "top": null,
            "visibility": "hidden",
            "width": "100%"
          }
        },
        "e300b26b818349888716313ca8534677": {
          "model_module": "@jupyter-widgets/base",
          "model_module_version": "1.2.0",
          "model_name": "LayoutModel",
          "state": {
            "_model_module": "@jupyter-widgets/base",
            "_model_module_version": "1.2.0",
            "_model_name": "LayoutModel",
            "_view_count": null,
            "_view_module": "@jupyter-widgets/base",
            "_view_module_version": "1.2.0",
            "_view_name": "LayoutView",
            "align_content": null,
            "align_items": null,
            "align_self": null,
            "border": null,
            "bottom": null,
            "display": "inline-flex",
            "flex": null,
            "flex_flow": "row wrap",
            "grid_area": null,
            "grid_auto_columns": null,
            "grid_auto_flow": null,
            "grid_auto_rows": null,
            "grid_column": null,
            "grid_gap": null,
            "grid_row": null,
            "grid_template_areas": null,
            "grid_template_columns": null,
            "grid_template_rows": null,
            "height": null,
            "justify_content": null,
            "justify_items": null,
            "left": null,
            "margin": null,
            "max_height": null,
            "max_width": null,
            "min_height": null,
            "min_width": null,
            "object_fit": null,
            "object_position": null,
            "order": null,
            "overflow": null,
            "overflow_x": null,
            "overflow_y": null,
            "padding": null,
            "right": null,
            "top": null,
            "visibility": null,
            "width": "100%"
          }
        },
        "e5804d37cbda4fc087118a451c50a85a": {
          "model_module": "@jupyter-widgets/controls",
          "model_module_version": "1.5.0",
          "model_name": "FloatProgressModel",
          "state": {
            "_dom_classes": [],
            "_model_module": "@jupyter-widgets/controls",
            "_model_module_version": "1.5.0",
            "_model_name": "FloatProgressModel",
            "_view_count": null,
            "_view_module": "@jupyter-widgets/controls",
            "_view_module_version": "1.5.0",
            "_view_name": "ProgressView",
            "bar_style": "success",
            "description": "",
            "description_tooltip": null,
            "layout": "IPY_MODEL_5187e8c2c5ce437fb60be1b3fd86cdf3",
            "max": 78,
            "min": 0,
            "orientation": "horizontal",
            "style": "IPY_MODEL_028b8282cf0f4db2909a1ecccff408c0",
            "value": 78
          }
        },
        "ec580058878f4d35b923d447940313e2": {
          "model_module": "@jupyter-widgets/base",
          "model_module_version": "1.2.0",
          "model_name": "LayoutModel",
          "state": {
            "_model_module": "@jupyter-widgets/base",
            "_model_module_version": "1.2.0",
            "_model_name": "LayoutModel",
            "_view_count": null,
            "_view_module": "@jupyter-widgets/base",
            "_view_module_version": "1.2.0",
            "_view_name": "LayoutView",
            "align_content": null,
            "align_items": null,
            "align_self": null,
            "border": null,
            "bottom": null,
            "display": "inline-flex",
            "flex": null,
            "flex_flow": "row wrap",
            "grid_area": null,
            "grid_auto_columns": null,
            "grid_auto_flow": null,
            "grid_auto_rows": null,
            "grid_column": null,
            "grid_gap": null,
            "grid_row": null,
            "grid_template_areas": null,
            "grid_template_columns": null,
            "grid_template_rows": null,
            "height": null,
            "justify_content": null,
            "justify_items": null,
            "left": null,
            "margin": null,
            "max_height": null,
            "max_width": null,
            "min_height": null,
            "min_width": null,
            "object_fit": null,
            "object_position": null,
            "order": null,
            "overflow": null,
            "overflow_x": null,
            "overflow_y": null,
            "padding": null,
            "right": null,
            "top": null,
            "visibility": "hidden",
            "width": "100%"
          }
        },
        "eea09af89f164c78a52f5d74f0448186": {
          "model_module": "@jupyter-widgets/controls",
          "model_module_version": "1.5.0",
          "model_name": "DescriptionStyleModel",
          "state": {
            "_model_module": "@jupyter-widgets/controls",
            "_model_module_version": "1.5.0",
            "_model_name": "DescriptionStyleModel",
            "_view_count": null,
            "_view_module": "@jupyter-widgets/base",
            "_view_module_version": "1.2.0",
            "_view_name": "StyleView",
            "description_width": ""
          }
        },
        "f5da4276371e4e9c94582f789f7f55a2": {
          "model_module": "@jupyter-widgets/controls",
          "model_module_version": "1.5.0",
          "model_name": "FloatProgressModel",
          "state": {
            "_dom_classes": [],
            "_model_module": "@jupyter-widgets/controls",
            "_model_module_version": "1.5.0",
            "_model_name": "FloatProgressModel",
            "_view_count": null,
            "_view_module": "@jupyter-widgets/controls",
            "_view_module_version": "1.5.0",
            "_view_name": "ProgressView",
            "bar_style": "",
            "description": "",
            "description_tooltip": null,
            "layout": "IPY_MODEL_00003b3163174a49a92253bdb51c43ef",
            "max": 20,
            "min": 0,
            "orientation": "horizontal",
            "style": "IPY_MODEL_b5910e99c3eb419bb450efa02fdf85ef",
            "value": 20
          }
        },
        "f9e05998c4f14ba694d17f27985c8bab": {
          "model_module": "@jupyter-widgets/controls",
          "model_module_version": "1.5.0",
          "model_name": "HBoxModel",
          "state": {
            "_dom_classes": [],
            "_model_module": "@jupyter-widgets/controls",
            "_model_module_version": "1.5.0",
            "_model_name": "HBoxModel",
            "_view_count": null,
            "_view_module": "@jupyter-widgets/controls",
            "_view_module_version": "1.5.0",
            "_view_name": "HBoxView",
            "box_style": "",
            "children": [
              "IPY_MODEL_d78f630935ac417fa7be5522bfbcd9ae",
              "IPY_MODEL_77486ff39ed44d3c82d1a3b2a0ff3b7b",
              "IPY_MODEL_2bf2edf275aa419b937cbd3ba0428838"
            ],
            "layout": "IPY_MODEL_e25481cd966148ca8a04f3d542b1c68d"
          }
        },
        "fc6ee4711efc4bc184d0ed6f5bdae24c": {
          "model_module": "@jupyter-widgets/controls",
          "model_module_version": "1.5.0",
          "model_name": "DescriptionStyleModel",
          "state": {
            "_model_module": "@jupyter-widgets/controls",
            "_model_module_version": "1.5.0",
            "_model_name": "DescriptionStyleModel",
            "_view_count": null,
            "_view_module": "@jupyter-widgets/base",
            "_view_module_version": "1.2.0",
            "_view_name": "StyleView",
            "description_width": ""
          }
        }
      }
    }
  },
  "nbformat": 4,
  "nbformat_minor": 0
}
